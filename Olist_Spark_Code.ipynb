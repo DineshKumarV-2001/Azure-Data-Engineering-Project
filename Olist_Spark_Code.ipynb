{
 "cells": [
  {
   "cell_type": "markdown",
   "metadata": {
    "application/vnd.databricks.v1+cell": {
     "cellMetadata": {
      "byteLimit": 2048000,
      "rowLimit": 10000
     },
     "inputWidgets": {},
     "nuid": "34b7e7ef-fb7b-471e-a093-c63267ca8b5b",
     "showTitle": false,
     "tableResultSettingsMap": {},
     "title": ""
    }
   },
   "source": [
    "# 1. Data Extraction"
   ]
  },
  {
   "cell_type": "code",
   "execution_count": 0,
   "metadata": {
    "application/vnd.databricks.v1+cell": {
     "cellMetadata": {
      "byteLimit": 2048000,
      "rowLimit": 10000
     },
     "inputWidgets": {},
     "nuid": "81022223-4d77-46af-84b5-751cb9d588dc",
     "showTitle": false,
     "tableResultSettingsMap": {},
     "title": ""
    }
   },
   "outputs": [
    {
     "output_type": "execute_result",
     "data": {
      "text/plain": [
       "<pyspark.sql.connect.session.SparkSession at 0x7fd76adf8df0>"
      ]
     },
     "execution_count": 118,
     "metadata": {},
     "output_type": "execute_result"
    }
   ],
   "source": [
    "from pyspark.sql import SparkSession\n",
    "\n",
    "spark = SparkSession.builder \\\n",
    "    .appName('olist_project') \\\n",
    "    .getOrCreate()\n",
    "\n",
    "spark"
   ]
  },
  {
   "cell_type": "markdown",
   "metadata": {
    "application/vnd.databricks.v1+cell": {
     "cellMetadata": {
      "byteLimit": 2048000,
      "rowLimit": 10000
     },
     "inputWidgets": {},
     "nuid": "2483ef0a-da21-4cb9-8f1c-574eb4e644ff",
     "showTitle": false,
     "tableResultSettingsMap": {},
     "title": ""
    }
   },
   "source": [
    "## Linking Azure Data Lake Gen2"
   ]
  },
  {
   "cell_type": "code",
   "execution_count": 0,
   "metadata": {
    "application/vnd.databricks.v1+cell": {
     "cellMetadata": {
      "byteLimit": 2048000,
      "rowLimit": 10000
     },
     "inputWidgets": {},
     "nuid": "7735cf37-4631-4a86-ba3c-71b1383a766b",
     "showTitle": false,
     "tableResultSettingsMap": {},
     "title": ""
    }
   },
   "outputs": [],
   "source": [
    "\n",
    "spark.conf.set(f\"fs.azure.account.auth.type.{storage_account}.dfs.core.windows.net\", \"OAuth\")\n",
    "spark.conf.set(f\"fs.azure.account.oauth.provider.type.{storage_account}.dfs.core.windows.net\", \"org.apache.hadoop.fs.azurebfs.oauth2.ClientCredsTokenProvider\")\n",
    "spark.conf.set(f\"fs.azure.account.oauth2.client.id.{storage_account}.dfs.core.windows.net\", application_id)\n",
    "spark.conf.set(f\"fs.azure.account.oauth2.client.secret.{storage_account}.dfs.core.windows.net\", service_credential)\n",
    "spark.conf.set(f\"fs.azure.account.oauth2.client.endpoint.{storage_account}.dfs.core.windows.net\", f\"https://login.microsoftonline.com/{directory_id}/oauth2/token\")"
   ]
  },
  {
   "cell_type": "markdown",
   "metadata": {
    "application/vnd.databricks.v1+cell": {
     "cellMetadata": {
      "byteLimit": 2048000,
      "rowLimit": 10000
     },
     "inputWidgets": {},
     "nuid": "083e1e75-0e63-4c6c-a14f-30156bdae7e5",
     "showTitle": false,
     "tableResultSettingsMap": {},
     "title": ""
    }
   },
   "source": [
    "## Reading Datasets From ADLS Gen2"
   ]
  },
  {
   "cell_type": "code",
   "execution_count": 0,
   "metadata": {
    "application/vnd.databricks.v1+cell": {
     "cellMetadata": {
      "byteLimit": 2048000,
      "rowLimit": 10000
     },
     "inputWidgets": {},
     "nuid": "be4c6b6a-cce0-454d-b8bb-72df8886cbdf",
     "showTitle": false,
     "tableResultSettingsMap": {},
     "title": ""
    }
   },
   "outputs": [
    {
     "output_type": "execute_result",
     "data": {
      "text/plain": [
       "[FileInfo(path='abfss://olistdataset@olistprojectstorage.dfs.core.windows.net/bronze/customers.csv', name='customers.csv', size=9033957, modificationTime=1751715768000),\n",
       " FileInfo(path='abfss://olistdataset@olistprojectstorage.dfs.core.windows.net/bronze/items.csv', name='items.csv', size=15438671, modificationTime=1751715787000),\n",
       " FileInfo(path='abfss://olistdataset@olistprojectstorage.dfs.core.windows.net/bronze/location.csv', name='location.csv', size=21471832, modificationTime=1751715807000),\n",
       " FileInfo(path='abfss://olistdataset@olistprojectstorage.dfs.core.windows.net/bronze/orders.csv', name='orders.csv', size=17654914, modificationTime=1751715824000),\n",
       " FileInfo(path='abfss://olistdataset@olistprojectstorage.dfs.core.windows.net/bronze/payments.csv', name='payments.csv', size=5777138, modificationTime=1751715843000),\n",
       " FileInfo(path='abfss://olistdataset@olistprojectstorage.dfs.core.windows.net/bronze/products.csv', name='products.csv', size=2379446, modificationTime=1751715863000),\n",
       " FileInfo(path='abfss://olistdataset@olistprojectstorage.dfs.core.windows.net/bronze/reviews.csv', name='reviews.csv', size=14451670, modificationTime=1751715882000),\n",
       " FileInfo(path='abfss://olistdataset@olistprojectstorage.dfs.core.windows.net/bronze/sellers.csv', name='sellers.csv', size=174703, modificationTime=1751715898000)]"
      ]
     },
     "execution_count": 120,
     "metadata": {},
     "output_type": "execute_result"
    }
   ],
   "source": [
    "dbutils.fs.ls(\"abfss://olistdataset@olistprojectstorage.dfs.core.windows.net/bronze/\")\n"
   ]
  },
  {
   "cell_type": "code",
   "execution_count": 0,
   "metadata": {
    "application/vnd.databricks.v1+cell": {
     "cellMetadata": {
      "byteLimit": 2048000,
      "rowLimit": 10000
     },
     "inputWidgets": {},
     "nuid": "4938be31-b4b8-4363-93a4-b11024cb6afd",
     "showTitle": false,
     "tableResultSettingsMap": {},
     "title": ""
    }
   },
   "outputs": [],
   "source": [
    "\n",
    "storage_path = f\"abfss://{container_name}@{account_name}.dfs.core.windows.net/bronze/\""
   ]
  },
  {
   "cell_type": "code",
   "execution_count": 0,
   "metadata": {
    "application/vnd.databricks.v1+cell": {
     "cellMetadata": {
      "byteLimit": 2048000,
      "rowLimit": 10000
     },
     "inputWidgets": {},
     "nuid": "1ac02426-0f87-40f3-802a-dad8c7456533",
     "showTitle": false,
     "tableResultSettingsMap": {},
     "title": ""
    }
   },
   "outputs": [],
   "source": [
    "customer_df = spark.read.format(\"csv\").option('inferSchema',True).option('header',True).load(storage_path + 'customers.csv')\n",
    "orders_df = spark.read.format(\"csv\").option('inferSchema',True).option('header',True).load(storage_path + 'orders.csv')\n",
    "items_df = spark.read.format(\"csv\").option('inferSchema',True).option('header',True).load(storage_path + 'items.csv')\n",
    "payments_df = spark.read.format(\"csv\").option('inferSchema',True).option('header',True).load(storage_path + 'payments.csv')\n",
    "location_df = spark.read.format(\"csv\").option('inferSchema',True).option('header',True).load(storage_path + 'location.csv') \n",
    "products_df = spark.read.format(\"csv\").option('inferSchema',True).option('header',True).load(storage_path + 'products.csv') \n",
    "sellers_df = spark.read.format(\"csv\").option('inferSchema',True).option('header',True).load(storage_path + 'sellers.csv')\n",
    "review_df = spark.read.format(\"csv\").option('inferSchema',True).option('header',True).load(storage_path + 'reviews.csv')\n"
   ]
  },
  {
   "cell_type": "markdown",
   "metadata": {
    "application/vnd.databricks.v1+cell": {
     "cellMetadata": {
      "byteLimit": 2048000,
      "rowLimit": 10000
     },
     "inputWidgets": {},
     "nuid": "b35ad4c7-1a86-4596-83ac-33319456195d",
     "showTitle": false,
     "tableResultSettingsMap": {},
     "title": ""
    }
   },
   "source": [
    "# 2. Data Exploration / EDA"
   ]
  },
  {
   "cell_type": "markdown",
   "metadata": {
    "application/vnd.databricks.v1+cell": {
     "cellMetadata": {
      "byteLimit": 2048000,
      "rowLimit": 10000
     },
     "inputWidgets": {},
     "nuid": "ea1cabc0-3314-49b5-9f09-3bc6e2cb9c84",
     "showTitle": false,
     "tableResultSettingsMap": {},
     "title": ""
    }
   },
   "source": [
    "## Data Model"
   ]
  },
  {
   "cell_type": "markdown",
   "metadata": {
    "application/vnd.databricks.v1+cell": {
     "cellMetadata": {
      "byteLimit": 2048000,
      "rowLimit": 10000
     },
     "inputWidgets": {},
     "nuid": "2542e5c8-5c50-42dd-be07-06c6ebdff7e7",
     "showTitle": false,
     "tableResultSettingsMap": {},
     "title": ""
    }
   },
   "source": [
    "![Data Model](https://i.imgur.com/HRhd2Y0.png)"
   ]
  },
  {
   "cell_type": "code",
   "execution_count": 0,
   "metadata": {
    "application/vnd.databricks.v1+cell": {
     "cellMetadata": {
      "byteLimit": 2048000,
      "rowLimit": 10000
     },
     "inputWidgets": {},
     "nuid": "a7628e2d-08cf-4704-afcf-45f63d6a9ba8",
     "showTitle": false,
     "tableResultSettingsMap": {},
     "title": ""
    }
   },
   "outputs": [],
   "source": [
    "def print_schema(df, name):\n",
    "    if df is None:\n",
    "        print(f\"{name} is None. Cannot print schema.\")\n",
    "    else:\n",
    "        print(f\"Schema for {name}:\")\n",
    "        df.printSchema()"
   ]
  },
  {
   "cell_type": "code",
   "execution_count": 0,
   "metadata": {
    "application/vnd.databricks.v1+cell": {
     "cellMetadata": {
      "byteLimit": 2048000,
      "rowLimit": 10000
     },
     "inputWidgets": {},
     "nuid": "4e9198b0-80c6-472f-a6c9-51c82d4094a9",
     "showTitle": false,
     "tableResultSettingsMap": {},
     "title": ""
    }
   },
   "outputs": [
    {
     "output_type": "stream",
     "name": "stdout",
     "output_type": "stream",
     "text": [
      "Schema for customer dataset:\nroot\n |-- customer_id: string (nullable = true)\n |-- customer_unique_id: string (nullable = true)\n |-- customer_zip_code_prefix: integer (nullable = true)\n |-- customer_city: string (nullable = true)\n |-- customer_state: string (nullable = true)\n\nSchema for orders dataset:\nroot\n |-- order_id: string (nullable = true)\n |-- customer_id: string (nullable = true)\n |-- order_status: string (nullable = true)\n |-- order_purchase_timestamp: timestamp (nullable = true)\n |-- order_approved_at: timestamp (nullable = true)\n |-- order_delivered_carrier_date: timestamp (nullable = true)\n |-- order_delivered_customer_date: timestamp (nullable = true)\n |-- order_estimated_delivery_date: timestamp (nullable = true)\n\nSchema for items dataset:\nroot\n |-- order_id: string (nullable = true)\n |-- order_item_id: integer (nullable = true)\n |-- product_id: string (nullable = true)\n |-- seller_id: string (nullable = true)\n |-- shipping_limit_date: timestamp (nullable = true)\n |-- price: double (nullable = true)\n |-- freight_value: double (nullable = true)\n\nSchema for payments dataset:\nroot\n |-- order_id: string (nullable = true)\n |-- payment_sequential: integer (nullable = true)\n |-- payment_type: string (nullable = true)\n |-- payment_installments: integer (nullable = true)\n |-- payment_value: double (nullable = true)\n\nSchema for location dataset:\nroot\n |-- geolocation_zip_code_prefix: integer (nullable = true)\n |-- geolocation_city: string (nullable = true)\n |-- geolocation_state: string (nullable = true)\n\nSchema for products dataset:\nroot\n |-- product_id: string (nullable = true)\n |-- product_category_name: string (nullable = true)\n |-- product_name_lenght: integer (nullable = true)\n |-- product_description_lenght: integer (nullable = true)\n |-- product_photos_qty: integer (nullable = true)\n |-- product_weight_g: integer (nullable = true)\n |-- product_length_cm: integer (nullable = true)\n |-- product_height_cm: integer (nullable = true)\n |-- product_width_cm: integer (nullable = true)\n\nSchema for sellers dataset:\nroot\n |-- seller_id: string (nullable = true)\n |-- seller_zip_code_prefix: integer (nullable = true)\n |-- seller_city: string (nullable = true)\n |-- seller_state: string (nullable = true)\n\nSchema for review dataset:\nroot\n |-- review_id: string (nullable = true)\n |-- order_id: string (nullable = true)\n |-- review_score: string (nullable = true)\n |-- review_comment_title: string (nullable = true)\n |-- review_comment_message: string (nullable = true)\n |-- review_creation_date: string (nullable = true)\n |-- review_answer_timestamp: string (nullable = true)\n\nSchema for payments dataset:\nroot\n |-- order_id: string (nullable = true)\n |-- payment_sequential: integer (nullable = true)\n |-- payment_type: string (nullable = true)\n |-- payment_installments: integer (nullable = true)\n |-- payment_value: double (nullable = true)\n\n"
     ]
    }
   ],
   "source": [
    "print_schema(customer_df,'customer dataset')\n",
    "print_schema(orders_df,'orders dataset')\n",
    "print_schema(items_df,'items dataset')\n",
    "print_schema(payments_df,'payments dataset')\n",
    "print_schema(location_df,'location dataset')\n",
    "print_schema(products_df,'products dataset') \n",
    "print_schema(sellers_df,'sellers dataset')\n",
    "print_schema(review_df,'review dataset')\n",
    "print_schema(payments_df,'payments dataset')"
   ]
  },
  {
   "cell_type": "markdown",
   "metadata": {
    "application/vnd.databricks.v1+cell": {
     "cellMetadata": {
      "byteLimit": 2048000,
      "rowLimit": 10000
     },
     "inputWidgets": {},
     "nuid": "8670e198-16fd-419b-bd6b-9fc720a16727",
     "showTitle": false,
     "tableResultSettingsMap": {},
     "title": ""
    }
   },
   "source": [
    "# 3. Data Validation / Quality Analysis"
   ]
  },
  {
   "cell_type": "code",
   "execution_count": 0,
   "metadata": {
    "application/vnd.databricks.v1+cell": {
     "cellMetadata": {
      "byteLimit": 2048000,
      "rowLimit": 10000
     },
     "inputWidgets": {},
     "nuid": "00c1ba2b-afa7-46a0-b662-afad8a280ef4",
     "showTitle": false,
     "tableResultSettingsMap": {},
     "title": ""
    }
   },
   "outputs": [],
   "source": [
    "from pyspark.sql.functions import *\n",
    "\n",
    "def data_validation(df,name):\n",
    "    total_count = df.count()\n",
    "    unique = df.dropDuplicates().count()\n",
    "    dedup = total_count-unique\n",
    "\n",
    "    print(name)\n",
    "    print(f\"Total Count : {total_count}\")\n",
    "    print(f\"Total Duplicates : {dedup}\")\n",
    "    print(f\"Total Nulls : \")\n",
    "    \n",
    "    null_count = df.select([count(when(col(c).isNull(),1)).alias(c) for c in df.columns]).show(vertical=True)"
   ]
  },
  {
   "cell_type": "code",
   "execution_count": 0,
   "metadata": {
    "application/vnd.databricks.v1+cell": {
     "cellMetadata": {
      "byteLimit": 2048000,
      "rowLimit": 10000
     },
     "inputWidgets": {},
     "nuid": "a5ad3d30-d6ff-434c-8d23-54896bf3a4e3",
     "showTitle": false,
     "tableResultSettingsMap": {},
     "title": ""
    }
   },
   "outputs": [
    {
     "output_type": "stream",
     "name": "stdout",
     "output_type": "stream",
     "text": [
      "customer dataset\nTotal Count : 99441\nTotal Duplicates : 0\nTotal Nulls : \n-RECORD 0-----------------------\n customer_id              | 0   \n customer_unique_id       | 0   \n customer_zip_code_prefix | 0   \n customer_city            | 0   \n customer_state           | 0   \n\norders dataset\nTotal Count : 99441\nTotal Duplicates : 0\nTotal Nulls : \n-RECORD 0-----------------------------\n order_id                      | 0    \n customer_id                   | 0    \n order_status                  | 0    \n order_purchase_timestamp      | 0    \n order_approved_at             | 160  \n order_delivered_carrier_date  | 1783 \n order_delivered_customer_date | 2965 \n order_estimated_delivery_date | 0    \n\nitems dataset\nTotal Count : 112650\nTotal Duplicates : 0\nTotal Nulls : \n-RECORD 0------------------\n order_id            | 0   \n order_item_id       | 0   \n product_id          | 0   \n seller_id           | 0   \n shipping_limit_date | 0   \n price               | 0   \n freight_value       | 0   \n\npayments dataset\nTotal Count : 103886\nTotal Duplicates : 0\nTotal Nulls : \n-RECORD 0-------------------\n order_id             | 0   \n payment_sequential   | 0   \n payment_type         | 0   \n payment_installments | 0   \n payment_value        | 0   \n\nlocation dataset\nTotal Count : 1000163\nTotal Duplicates : 972252\nTotal Nulls : \n-RECORD 0--------------------------\n geolocation_zip_code_prefix | 0   \n geolocation_city            | 0   \n geolocation_state           | 0   \n\nproducts dataset\nTotal Count : 32951\nTotal Duplicates : 0\nTotal Nulls : \n-RECORD 0-------------------------\n product_id                 | 0   \n product_category_name      | 610 \n product_name_lenght        | 610 \n product_description_lenght | 610 \n product_photos_qty         | 610 \n product_weight_g           | 2   \n product_length_cm          | 2   \n product_height_cm          | 2   \n product_width_cm           | 2   \n\nsellers dataset\nTotal Count : 3095\nTotal Duplicates : 0\nTotal Nulls : \n-RECORD 0---------------------\n seller_id              | 0   \n seller_zip_code_prefix | 0   \n seller_city            | 0   \n seller_state           | 0   \n\nreview dataset\nTotal Count : 104162\nTotal Duplicates : 85\nTotal Nulls : \n-RECORD 0------------------------\n review_id               | 1     \n order_id                | 2236  \n review_score            | 2380  \n review_comment_title    | 92157 \n review_comment_message  | 63079 \n review_creation_date    | 8764  \n review_answer_timestamp | 8785  \n\npayments dataset\nTotal Count : 103886\nTotal Duplicates : 0\nTotal Nulls : \n-RECORD 0-------------------\n order_id             | 0   \n payment_sequential   | 0   \n payment_type         | 0   \n payment_installments | 0   \n payment_value        | 0   \n\n"
     ]
    }
   ],
   "source": [
    "data_validation(customer_df,'customer dataset')\n",
    "data_validation(orders_df,'orders dataset')\n",
    "data_validation(items_df,'items dataset')\n",
    "data_validation(payments_df,'payments dataset')\n",
    "data_validation(location_df,'location dataset')\n",
    "data_validation(products_df,'products dataset') \n",
    "data_validation(sellers_df,'sellers dataset')\n",
    "data_validation(review_df,'review dataset')\n",
    "data_validation(payments_df,'payments dataset')"
   ]
  },
  {
   "cell_type": "markdown",
   "metadata": {
    "application/vnd.databricks.v1+cell": {
     "cellMetadata": {
      "byteLimit": 2048000,
      "rowLimit": 10000
     },
     "inputWidgets": {},
     "nuid": "8f2172ca-5b8b-4f1f-95bc-9b1ce0e95cf0",
     "showTitle": false,
     "tableResultSettingsMap": {},
     "title": ""
    }
   },
   "source": [
    "# 4. Data Curation"
   ]
  },
  {
   "cell_type": "markdown",
   "metadata": {
    "application/vnd.databricks.v1+cell": {
     "cellMetadata": {
      "byteLimit": 2048000,
      "rowLimit": 10000
     },
     "inputWidgets": {},
     "nuid": "ce255de1-8b5c-4f2c-9e04-adc71c8dedac",
     "showTitle": false,
     "tableResultSettingsMap": {},
     "title": ""
    }
   },
   "source": [
    "## Analysing Required Columns"
   ]
  },
  {
   "cell_type": "code",
   "execution_count": 0,
   "metadata": {
    "application/vnd.databricks.v1+cell": {
     "cellMetadata": {
      "byteLimit": 2048000,
      "rowLimit": 10000
     },
     "inputWidgets": {},
     "nuid": "dd4f654f-ae9a-4821-b3f4-eeb8845772cb",
     "showTitle": false,
     "tableResultSettingsMap": {},
     "title": ""
    }
   },
   "outputs": [],
   "source": [
    "order = orders_df.select('order_id','order_status','order_purchase_timestamp','order_delivered_customer_date','order_estimated_delivery_date','customer_id')\n",
    "\n",
    "customer = customer_df.select('customer_id','customer_city','customer_state')\n",
    "\n",
    "item = items_df.select(\"order_id\",\"product_id\",\"seller_id\",\"price\",\"freight_value\")\n",
    "\n",
    "payment = payments_df.select('order_id','payment_type','payment_value')\n",
    "\n",
    "product = products_df.select('product_id','product_category_name')\n",
    "\n",
    "review = review_df.select(\"order_id\",'review_score')"
   ]
  },
  {
   "cell_type": "markdown",
   "metadata": {
    "application/vnd.databricks.v1+cell": {
     "cellMetadata": {
      "byteLimit": 2048000,
      "rowLimit": 10000
     },
     "inputWidgets": {},
     "nuid": "df96d848-c289-4328-9c26-e20cd2ed2a1a",
     "showTitle": false,
     "tableResultSettingsMap": {},
     "title": ""
    }
   },
   "source": [
    "## Joining Dataset"
   ]
  },
  {
   "cell_type": "code",
   "execution_count": 0,
   "metadata": {
    "application/vnd.databricks.v1+cell": {
     "cellMetadata": {
      "byteLimit": 2048000,
      "rowLimit": 10000
     },
     "inputWidgets": {},
     "nuid": "6912f6c2-7d3c-4eed-86cf-9d1837520610",
     "showTitle": false,
     "tableResultSettingsMap": {},
     "title": ""
    }
   },
   "outputs": [],
   "source": [
    "from pyspark.sql.functions import broadcast\n",
    "\n",
    "final_df = order.join(broadcast(customer),on='customer_id',how='left') \\\n",
    "                .join(broadcast(review),on='order_id',how='left') \\\n",
    "                .join(payment,on='order_id',how='left') \\\n",
    "                .join(item,on='order_id',how='left') \\\n",
    "                .join(broadcast(product),on='product_id',how='left')"
   ]
  },
  {
   "cell_type": "markdown",
   "metadata": {
    "application/vnd.databricks.v1+cell": {
     "cellMetadata": {
      "byteLimit": 2048000,
      "rowLimit": 10000
     },
     "inputWidgets": {},
     "nuid": "60b87b7f-a7e9-4652-a10f-ad653ab3ceef",
     "showTitle": false,
     "tableResultSettingsMap": {},
     "title": ""
    }
   },
   "source": [
    "# 5. Optimization : Caching on final_df"
   ]
  },
  {
   "cell_type": "code",
   "execution_count": 0,
   "metadata": {
    "application/vnd.databricks.v1+cell": {
     "cellMetadata": {
      "byteLimit": 2048000,
      "rowLimit": 10000
     },
     "inputWidgets": {},
     "nuid": "68faf1dc-8324-4521-9dc0-b102b500daa4",
     "showTitle": false,
     "tableResultSettingsMap": {},
     "title": ""
    }
   },
   "outputs": [
    {
     "output_type": "execute_result",
     "data": {
      "text/plain": [
       "DataFrame[product_id: string, order_id: string, customer_id: string, order_status: string, order_purchase_timestamp: timestamp, order_delivered_customer_date: timestamp, order_estimated_delivery_date: timestamp, customer_city: string, customer_state: string, review_score: string, payment_type: string, payment_value: double, seller_id: string, price: double, freight_value: double, product_category_name: string]"
      ]
     },
     "execution_count": 129,
     "metadata": {},
     "output_type": "execute_result"
    }
   ],
   "source": [
    "final_df.cache()"
   ]
  },
  {
   "cell_type": "code",
   "execution_count": 0,
   "metadata": {
    "application/vnd.databricks.v1+cell": {
     "cellMetadata": {
      "byteLimit": 2048000,
      "rowLimit": 10000
     },
     "inputWidgets": {},
     "nuid": "58f4148d-9220-4c72-929b-ef783b93db98",
     "showTitle": false,
     "tableResultSettingsMap": {},
     "title": ""
    }
   },
   "outputs": [
    {
     "output_type": "execute_result",
     "data": {
      "text/plain": [
       "['product_id',\n",
       " 'order_id',\n",
       " 'customer_id',\n",
       " 'order_status',\n",
       " 'order_purchase_timestamp',\n",
       " 'order_delivered_customer_date',\n",
       " 'order_estimated_delivery_date',\n",
       " 'customer_city',\n",
       " 'customer_state',\n",
       " 'review_score',\n",
       " 'payment_type',\n",
       " 'payment_value',\n",
       " 'seller_id',\n",
       " 'price',\n",
       " 'freight_value',\n",
       " 'product_category_name']"
      ]
     },
     "execution_count": 130,
     "metadata": {},
     "output_type": "execute_result"
    }
   ],
   "source": [
    "final_df.columns"
   ]
  },
  {
   "cell_type": "markdown",
   "metadata": {
    "application/vnd.databricks.v1+cell": {
     "cellMetadata": {
      "byteLimit": 2048000,
      "rowLimit": 10000
     },
     "inputWidgets": {},
     "nuid": "584dd746-c1e9-4e1d-b1c7-09dd26d4b2b0",
     "showTitle": false,
     "tableResultSettingsMap": {},
     "title": ""
    }
   },
   "source": [
    "# 6. Re-Validation on Merged Dataset"
   ]
  },
  {
   "cell_type": "code",
   "execution_count": 0,
   "metadata": {
    "application/vnd.databricks.v1+cell": {
     "cellMetadata": {
      "byteLimit": 2048000,
      "rowLimit": 10000
     },
     "inputWidgets": {},
     "nuid": "09c1af40-7dfc-46d7-91a9-a2a530d51144",
     "showTitle": false,
     "tableResultSettingsMap": {},
     "title": ""
    }
   },
   "outputs": [
    {
     "output_type": "stream",
     "name": "stdout",
     "output_type": "stream",
     "text": [
      "Merged Dataset\nTotal Count : 119143\nTotal Duplicates : 11696\nTotal Nulls : \n-RECORD 0-----------------------------\n product_id                    | 833  \n order_id                      | 0    \n customer_id                   | 0    \n order_status                  | 0    \n order_purchase_timestamp      | 0    \n order_delivered_customer_date | 3421 \n order_estimated_delivery_date | 0    \n customer_city                 | 0    \n customer_state                | 0    \n review_score                  | 997  \n payment_type                  | 3    \n payment_value                 | 3    \n seller_id                     | 833  \n price                         | 833  \n freight_value                 | 833  \n product_category_name         | 2542 \n\n"
     ]
    }
   ],
   "source": [
    "data_validation(final_df,\"Merged Dataset\")"
   ]
  },
  {
   "cell_type": "markdown",
   "metadata": {
    "application/vnd.databricks.v1+cell": {
     "cellMetadata": {
      "byteLimit": 2048000,
      "rowLimit": 10000
     },
     "inputWidgets": {},
     "nuid": "17fd6b11-1b38-4926-8564-373bedeb0fda",
     "showTitle": false,
     "tableResultSettingsMap": {},
     "title": ""
    }
   },
   "source": [
    "# 7. Data Transformation"
   ]
  },
  {
   "cell_type": "markdown",
   "metadata": {
    "application/vnd.databricks.v1+cell": {
     "cellMetadata": {
      "byteLimit": 2048000,
      "rowLimit": 10000
     },
     "inputWidgets": {},
     "nuid": "d9f5041f-ddf1-4944-9549-0402f54996de",
     "showTitle": false,
     "tableResultSettingsMap": {},
     "title": ""
    }
   },
   "source": [
    "## Renaming Columns "
   ]
  },
  {
   "cell_type": "code",
   "execution_count": 0,
   "metadata": {
    "application/vnd.databricks.v1+cell": {
     "cellMetadata": {
      "byteLimit": 2048000,
      "rowLimit": 10000
     },
     "inputWidgets": {},
     "nuid": "c9b91af3-74c8-479b-adc9-384369d5b670",
     "showTitle": false,
     "tableResultSettingsMap": {},
     "title": ""
    }
   },
   "outputs": [],
   "source": [
    "final_df = final_df.withColumnRenamed(\"order_purchase_timestamp\",\"purchase_ts\")\n",
    "final_df = final_df.withColumnRenamed(\"order_delivered_customer_date\",\"delivered_date\")\n",
    "final_df = final_df.withColumnRenamed(\"order_estimated_delivery_date\",\"est_delivery\")\n",
    "final_df = final_df.withColumnRenamed(\"product_category_name\",\"category\")\n",
    "final_df = final_df.withColumnRenamed(\"payment_type\",\"pay_type\")\n",
    "final_df = final_df.withColumnRenamed(\"seller_id\",\"seller\")\n",
    "final_df = final_df.withColumnRenamed(\"product_id\",\"product\")\n",
    "final_df = final_df.withColumnRenamed(\"freight_value\",\"shipping_fee\")"
   ]
  },
  {
   "cell_type": "code",
   "execution_count": 0,
   "metadata": {
    "application/vnd.databricks.v1+cell": {
     "cellMetadata": {
      "byteLimit": 2048000,
      "rowLimit": 10000
     },
     "inputWidgets": {},
     "nuid": "0429e47f-7846-4d27-8695-be71ff78cd9e",
     "showTitle": false,
     "tableResultSettingsMap": {},
     "title": ""
    }
   },
   "outputs": [
    {
     "output_type": "stream",
     "name": "stdout",
     "output_type": "stream",
     "text": [
      "root\n |-- product: string (nullable = true)\n |-- order_id: string (nullable = true)\n |-- customer_id: string (nullable = true)\n |-- order_status: string (nullable = true)\n |-- purchase_ts: timestamp (nullable = true)\n |-- delivered_date: timestamp (nullable = true)\n |-- est_delivery: timestamp (nullable = true)\n |-- customer_city: string (nullable = true)\n |-- customer_state: string (nullable = true)\n |-- review_score: string (nullable = true)\n |-- pay_type: string (nullable = true)\n |-- payment_value: double (nullable = true)\n |-- seller: string (nullable = true)\n |-- price: double (nullable = true)\n |-- shipping_fee: double (nullable = true)\n |-- category: string (nullable = true)\n\n"
     ]
    }
   ],
   "source": [
    "final_df.printSchema()"
   ]
  },
  {
   "cell_type": "markdown",
   "metadata": {
    "application/vnd.databricks.v1+cell": {
     "cellMetadata": {
      "byteLimit": 2048000,
      "rowLimit": 10000
     },
     "inputWidgets": {},
     "nuid": "49d61aa6-bf37-41b6-b946-c64009d6a3a8",
     "showTitle": false,
     "tableResultSettingsMap": {},
     "title": ""
    }
   },
   "source": [
    "## Structuring Columns"
   ]
  },
  {
   "cell_type": "code",
   "execution_count": 0,
   "metadata": {
    "application/vnd.databricks.v1+cell": {
     "cellMetadata": {
      "byteLimit": 2048000,
      "rowLimit": 10000
     },
     "inputWidgets": {},
     "nuid": "67f8be5d-41c4-448e-97fa-7c85ac86b163",
     "showTitle": false,
     "tableResultSettingsMap": {},
     "title": ""
    }
   },
   "outputs": [
    {
     "output_type": "stream",
     "name": "stdout",
     "output_type": "stream",
     "text": [
      "+------------+-------------+-----+------------+\n|review_score|payment_value|price|shipping_fee|\n+------------+-------------+-----+------------+\n|           4|        18.59|29.99|        8.72|\n|           4|          2.0|29.99|        8.72|\n|           4|        18.12|29.99|        8.72|\n|           4|       141.46|118.7|       22.76|\n|           5|       179.12|159.9|       19.22|\n|           5|         72.2| 45.0|        27.2|\n|           5|        28.62| 19.9|        8.72|\n|           4|       175.26|147.9|       27.36|\n|           2|        65.95| 49.9|       16.05|\n|           5|        75.16|59.99|       15.17|\n+------------+-------------+-----+------------+\nonly showing top 10 rows\n\n"
     ]
    }
   ],
   "source": [
    "final_df.select('review_score','payment_value','price','shipping_fee').show(10)"
   ]
  },
  {
   "cell_type": "code",
   "execution_count": 0,
   "metadata": {
    "application/vnd.databricks.v1+cell": {
     "cellMetadata": {
      "byteLimit": 2048000,
      "rowLimit": 10000
     },
     "inputWidgets": {},
     "nuid": "4f8c60e9-d8b7-4e7c-b1a6-4163e9217cdb",
     "showTitle": false,
     "tableResultSettingsMap": {},
     "title": ""
    }
   },
   "outputs": [],
   "source": [
    "final_df = final_df.withColumn('review_score',col('review_score').cast('Integer'))"
   ]
  },
  {
   "cell_type": "code",
   "execution_count": 0,
   "metadata": {
    "application/vnd.databricks.v1+cell": {
     "cellMetadata": {
      "byteLimit": 2048000,
      "rowLimit": 10000
     },
     "inputWidgets": {},
     "nuid": "d73b4dee-8fe2-4e63-9b62-f109cbe084f4",
     "showTitle": false,
     "tableResultSettingsMap": {},
     "title": ""
    }
   },
   "outputs": [
    {
     "output_type": "stream",
     "name": "stdout",
     "output_type": "stream",
     "text": [
      "root\n |-- product: string (nullable = true)\n |-- order_id: string (nullable = true)\n |-- customer_id: string (nullable = true)\n |-- order_status: string (nullable = true)\n |-- purchase_ts: timestamp (nullable = true)\n |-- delivered_date: timestamp (nullable = true)\n |-- est_delivery: timestamp (nullable = true)\n |-- customer_city: string (nullable = true)\n |-- customer_state: string (nullable = true)\n |-- review_score: integer (nullable = true)\n |-- pay_type: string (nullable = true)\n |-- payment_value: double (nullable = true)\n |-- seller: string (nullable = true)\n |-- price: double (nullable = true)\n |-- shipping_fee: double (nullable = true)\n |-- category: string (nullable = true)\n\n"
     ]
    }
   ],
   "source": [
    "final_df.printSchema()"
   ]
  },
  {
   "cell_type": "markdown",
   "metadata": {
    "application/vnd.databricks.v1+cell": {
     "cellMetadata": {
      "byteLimit": 2048000,
      "rowLimit": 10000
     },
     "inputWidgets": {},
     "nuid": "0bfde9f7-8d25-4f78-9822-a40f4de1da90",
     "showTitle": false,
     "tableResultSettingsMap": {},
     "title": ""
    }
   },
   "source": [
    "## Data Cleaning"
   ]
  },
  {
   "cell_type": "code",
   "execution_count": 0,
   "metadata": {
    "application/vnd.databricks.v1+cell": {
     "cellMetadata": {
      "byteLimit": 2048000,
      "rowLimit": 10000
     },
     "inputWidgets": {},
     "nuid": "f9ee1a89-738b-4c01-a829-cded04e32573",
     "showTitle": false,
     "tableResultSettingsMap": {},
     "title": ""
    }
   },
   "outputs": [],
   "source": [
    "final_df = final_df.dropDuplicates()"
   ]
  },
  {
   "cell_type": "code",
   "execution_count": 0,
   "metadata": {
    "application/vnd.databricks.v1+cell": {
     "cellMetadata": {
      "byteLimit": 2048000,
      "rowLimit": 10000
     },
     "inputWidgets": {},
     "nuid": "093d3d63-c8c9-45c6-8897-fef434b6836f",
     "showTitle": false,
     "tableResultSettingsMap": {},
     "title": ""
    }
   },
   "outputs": [
    {
     "output_type": "stream",
     "name": "stdout",
     "output_type": "stream",
     "text": [
      "Deduped Data\nTotal Count : 107447\nTotal Duplicates : 0\nTotal Nulls : \n-RECORD 0--------------\n product        | 812  \n order_id       | 0    \n customer_id    | 0    \n order_status   | 0    \n purchase_ts    | 0    \n delivered_date | 0    \n est_delivery   | 0    \n customer_city  | 0    \n customer_state | 0    \n review_score   | 0    \n pay_type       | 1    \n payment_value  | 0    \n seller         | 812  \n price          | 0    \n shipping_fee   | 0    \n category       | 2341 \n delivery_gap   | 0    \n\n"
     ]
    }
   ],
   "source": [
    "data_validation(final_df,'Deduped Data')"
   ]
  },
  {
   "cell_type": "markdown",
   "metadata": {
    "application/vnd.databricks.v1+cell": {
     "cellMetadata": {
      "byteLimit": 2048000,
      "rowLimit": 10000
     },
     "inputWidgets": {},
     "nuid": "70a2fec9-00f9-4524-ad1c-cf92ca2732c0",
     "showTitle": false,
     "tableResultSettingsMap": {},
     "title": ""
    }
   },
   "source": [
    "# 8 Feature Engineering"
   ]
  },
  {
   "cell_type": "code",
   "execution_count": 0,
   "metadata": {
    "application/vnd.databricks.v1+cell": {
     "cellMetadata": {
      "byteLimit": 2048000,
      "rowLimit": 10000
     },
     "inputWidgets": {},
     "nuid": "8a4b2c4f-0ac9-4430-b77d-b414c27a996b",
     "showTitle": false,
     "tableResultSettingsMap": {},
     "title": ""
    }
   },
   "outputs": [],
   "source": [
    "# filling nulls with mean values on price , payment_value and shipping_fee\n",
    "\n",
    "from pyspark.sql.functions import col\n",
    "\n",
    "def impute_with_mean(df, columns):\n",
    "    for c in columns:\n",
    "        mean_val = df.selectExpr(f\"avg({c}) as mean\").collect()[0]['mean']\n",
    "        df = df.fillna({c: mean_val})\n",
    "    return df\n",
    "\n",
    "final_df = impute_with_mean(final_df, ['price', 'payment_value', 'shipping_fee','review_score'])"
   ]
  },
  {
   "cell_type": "code",
   "execution_count": 0,
   "metadata": {
    "application/vnd.databricks.v1+cell": {
     "cellMetadata": {
      "byteLimit": 2048000,
      "rowLimit": 10000
     },
     "inputWidgets": {},
     "nuid": "367b71e9-c9fa-4176-a432-9dc6c7f97c9e",
     "showTitle": false,
     "tableResultSettingsMap": {},
     "title": ""
    }
   },
   "outputs": [],
   "source": [
    "from pyspark.sql.functions import when, col\n",
    "\n",
    "final_df = final_df.withColumn(\n",
    "    \"delivered_date\",\n",
    "    when(col(\"delivered_date\").isNull(), col(\"est_delivery\")).otherwise(col(\"delivered_date\"))\n",
    ")"
   ]
  },
  {
   "cell_type": "code",
   "execution_count": 0,
   "metadata": {
    "application/vnd.databricks.v1+cell": {
     "cellMetadata": {
      "byteLimit": 2048000,
      "rowLimit": 10000
     },
     "inputWidgets": {},
     "nuid": "d3bb6ed9-a76a-4119-a924-614104991022",
     "showTitle": false,
     "tableResultSettingsMap": {},
     "title": ""
    }
   },
   "outputs": [],
   "source": [
    "# Calculating Average Order Value\n",
    "\n",
    "final_df = final_df.groupBy('customer_id')\\\n",
    "    .agg(\n",
    "        count('order_id').alias('total_orders'),\n",
    "        sum('price').alias('total_spent')\n",
    "    ) \\\n",
    "    .withColumn('AOV'\\\n",
    "        , col('total_spent')/col('total_orders')\n",
    "        )"
   ]
  },
  {
   "cell_type": "code",
   "execution_count": 0,
   "metadata": {
    "application/vnd.databricks.v1+cell": {
     "cellMetadata": {
      "byteLimit": 2048000,
      "rowLimit": 10000
     },
     "inputWidgets": {},
     "nuid": "5e1065da-c07a-45e8-bbf9-e2000f96bd69",
     "showTitle": false,
     "tableResultSettingsMap": {},
     "title": ""
    }
   },
   "outputs": [
    {
     "output_type": "stream",
     "name": "stdout",
     "output_type": "stream",
     "text": [
      "Transfromed Data\nTotal Count : 119143\nTotal Duplicates : 11696\nTotal Nulls : \n-RECORD 0--------------\n product        | 833  \n order_id       | 0    \n customer_id    | 0    \n order_status   | 0    \n purchase_ts    | 0    \n delivered_date | 0    \n est_delivery   | 0    \n customer_city  | 0    \n customer_state | 0    \n review_score   | 0    \n pay_type       | 3    \n payment_value  | 0    \n seller         | 833  \n price          | 0    \n shipping_fee   | 0    \n category       | 2542 \n delivery_gap   | 0    \n\n"
     ]
    }
   ],
   "source": [
    "data_validation(final_df,\"Transfromed Data\")"
   ]
  },
  {
   "cell_type": "markdown",
   "metadata": {
    "application/vnd.databricks.v1+cell": {
     "cellMetadata": {},
     "inputWidgets": {},
     "nuid": "49ae7ca2-8483-4a5a-8044-44896cc5aa21",
     "showTitle": false,
     "tableResultSettingsMap": {},
     "title": ""
    }
   },
   "source": [
    "# 9. Business Insights"
   ]
  },
  {
   "cell_type": "code",
   "execution_count": 0,
   "metadata": {
    "application/vnd.databricks.v1+cell": {
     "cellMetadata": {
      "byteLimit": 2048000,
      "rowLimit": 10000
     },
     "inputWidgets": {},
     "nuid": "8c2e6df6-f0f4-459d-995d-3fbb461c3a7a",
     "showTitle": false,
     "tableResultSettingsMap": {},
     "title": ""
    }
   },
   "outputs": [
    {
     "output_type": "stream",
     "name": "stdout",
     "output_type": "stream",
     "text": [
      "+-------------------+-------------------+-----------------+\n|     delivered_date|        purchase_ts|     delivery_gap|\n+-------------------+-------------------+-----------------+\n|2017-10-10 21:25:13|2017-10-02 10:56:33| INTERVAL '8' DAY|\n|2017-10-10 21:25:13|2017-10-02 10:56:33| INTERVAL '8' DAY|\n|2017-10-10 21:25:13|2017-10-02 10:56:33| INTERVAL '8' DAY|\n|2018-08-07 15:27:45|2018-07-24 20:41:37|INTERVAL '14' DAY|\n|2018-08-17 18:06:29|2018-08-08 08:38:49| INTERVAL '9' DAY|\n+-------------------+-------------------+-----------------+\nonly showing top 5 rows\n\n"
     ]
    }
   ],
   "source": [
    "# finding Delivery Gap (delivery_gap = delivered_date - purchase_date)\n",
    "\n",
    "final_df = final_df.withColumn(\n",
    "    \"delivery_gap\",\n",
    "    col(\"delivered_date\").cast(\"date\") - col(\"purchase_ts\").cast(\"date\")\n",
    ")\n",
    "\n",
    "final_df.select('delivered_date','purchase_ts','delivery_gap').show(5)"
   ]
  },
  {
   "cell_type": "code",
   "execution_count": 0,
   "metadata": {
    "application/vnd.databricks.v1+cell": {
     "cellMetadata": {
      "byteLimit": 2048000,
      "rowLimit": 10000
     },
     "inputWidgets": {},
     "nuid": "b14a390d-7948-4aab-86ff-249009af8ae4",
     "showTitle": false,
     "tableResultSettingsMap": {},
     "title": ""
    }
   },
   "outputs": [
    {
     "output_type": "stream",
     "name": "stdout",
     "output_type": "stream",
     "text": [
      "+--------+--------+------------------+\n|min(AOV)|max(AOV)|          avg(AOV)|\n+--------+--------+------------------+\n|    0.85|  6735.0|125.90113394832466|\n+--------+--------+------------------+\n\n"
     ]
    }
   ],
   "source": [
    "# AOV Segmentation\n",
    "\n",
    "final_df.select(min('AOV'),max('AOV'),avg('AOV')).show()"
   ]
  },
  {
   "cell_type": "code",
   "execution_count": 0,
   "metadata": {
    "application/vnd.databricks.v1+cell": {
     "cellMetadata": {
      "byteLimit": 2048000,
      "rowLimit": 10000
     },
     "inputWidgets": {},
     "nuid": "9e6f2473-bf07-448e-9536-4a2e82ec2611",
     "showTitle": false,
     "tableResultSettingsMap": {},
     "title": ""
    }
   },
   "outputs": [],
   "source": [
    "# Customer Segmentation based on AOV\n",
    "\n",
    "final_df = final_df.withColumn(\n",
    "    \"customer_segmentation\" \\\n",
    "    , when(col(\"AOV\") < 125, \"Low Value\") \\\n",
    "    .when((col(\"AOV\") > 125) & (col(\"AOV\") <= 300), \"Medium Value\") \\\n",
    "    .when((col(\"AOV\") > 300) & (col(\"AOV\") <= 500), \"High Value\") \\\n",
    "    .otherwise(\"Premium Customer\")\n",
    ")"
   ]
  },
  {
   "cell_type": "code",
   "execution_count": 0,
   "metadata": {
    "application/vnd.databricks.v1+cell": {
     "cellMetadata": {
      "byteLimit": 2048000,
      "rowLimit": 10000
     },
     "inputWidgets": {},
     "nuid": "c772795f-5f94-4c34-871e-e06f81911fa5",
     "showTitle": false,
     "tableResultSettingsMap": {},
     "title": ""
    }
   },
   "outputs": [
    {
     "output_type": "stream",
     "name": "stdout",
     "output_type": "stream",
     "text": [
      "+---------------------+-----+\n|customer_segmentation|count|\n+---------------------+-----+\n|     Premium Customer| 3234|\n|         Medium Value|22141|\n|           High Value| 3513|\n|            Low Value|70553|\n+---------------------+-----+\n\n"
     ]
    }
   ],
   "source": [
    "final_df.groupBy('customer_segmentation').count().show()"
   ]
  },
  {
   "cell_type": "markdown",
   "metadata": {
    "application/vnd.databricks.v1+cell": {
     "cellMetadata": {
      "byteLimit": 2048000,
      "rowLimit": 10000
     },
     "inputWidgets": {},
     "nuid": "b256224f-54f6-4995-9b30-820150cb573f",
     "showTitle": false,
     "tableResultSettingsMap": {},
     "title": ""
    }
   },
   "source": [
    "# 10. Data Serving"
   ]
  },
  {
   "cell_type": "code",
   "execution_count": 0,
   "metadata": {
    "application/vnd.databricks.v1+cell": {
     "cellMetadata": {
      "byteLimit": 2048000,
      "rowLimit": 10000
     },
     "inputWidgets": {},
     "nuid": "2923006f-5495-42f9-ae5c-c1f6c62350a3",
     "showTitle": false,
     "tableResultSettingsMap": {},
     "title": ""
    }
   },
   "outputs": [],
   "source": [
    "# Storing Transformed dataset into Silver layer\n",
    "\n",
    "final_df.write \\\n",
    "    .mode(\"overwrite\") \\\n",
    "    .format(\"delta\") \\\n",
    "    .partitionBy(\"customer_segmentation\") \\\n",
    "    .save(silver_path)"
   ]
  },
  {
   "cell_type": "code",
   "execution_count": 0,
   "metadata": {
    "application/vnd.databricks.v1+cell": {
     "cellMetadata": {},
     "inputWidgets": {},
     "nuid": "993850d4-3f2b-471d-8d07-0d2a068feff2",
     "showTitle": false,
     "tableResultSettingsMap": {},
     "title": ""
    }
   },
   "outputs": [],
   "source": []
  }
 ],
 "metadata": {
  "application/vnd.databricks.v1+notebook": {
   "computePreferences": null,
   "dashboards": [],
   "environmentMetadata": {
    "base_environment": "",
    "environment_version": "2"
   },
   "inputWidgetPreferences": null,
   "language": "python",
   "notebookMetadata": {
    "pythonIndentUnit": 4
   },
   "notebookName": "Olist_Spark_Transformation",
   "widgets": {}
  },
  "language_info": {
   "name": "python"
  }
 },
 "nbformat": 4,
 "nbformat_minor": 0
}