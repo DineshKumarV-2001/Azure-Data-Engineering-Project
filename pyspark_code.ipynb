{
 "cells": [
  {
   "cell_type": "markdown",
   "metadata": {
    "application/vnd.databricks.v1+cell": {
     "cellMetadata": {
      "byteLimit": 2048000,
      "rowLimit": 10000
     },
     "inputWidgets": {},
     "nuid": "34b7e7ef-fb7b-471e-a093-c63267ca8b5b",
     "showTitle": false,
     "tableResultSettingsMap": {},
     "title": ""
    }
   },
   "source": [
    "# 1. Data Extraction"
   ]
  },
  {
   "cell_type": "code",
   "execution_count": 0,
   "metadata": {
    "application/vnd.databricks.v1+cell": {
     "cellMetadata": {
      "byteLimit": 2048000,
      "rowLimit": 10000
     },
     "inputWidgets": {},
     "nuid": "81022223-4d77-46af-84b5-751cb9d588dc",
     "showTitle": false,
     "tableResultSettingsMap": {},
     "title": ""
    }
   },
   "outputs": [
    {
     "output_type": "execute_result",
     "data": {
      "text/plain": [
       "<pyspark.sql.connect.session.SparkSession at 0x7fdca9498df0>"
      ]
     },
     "execution_count": 323,
     "metadata": {},
     "output_type": "execute_result"
    }
   ],
   "source": [
    "from pyspark.sql import SparkSession\n",
    "\n",
    "spark = SparkSession.builder \\\n",
    "    .appName('olist_project') \\\n",
    "    .getOrCreate()\n",
    "\n",
    "spark"
   ]
  },
  {
   "cell_type": "markdown",
   "metadata": {
    "application/vnd.databricks.v1+cell": {
     "cellMetadata": {
      "byteLimit": 2048000,
      "rowLimit": 10000
     },
     "inputWidgets": {},
     "nuid": "2483ef0a-da21-4cb9-8f1c-574eb4e644ff",
     "showTitle": false,
     "tableResultSettingsMap": {},
     "title": ""
    }
   },
   "source": [
    "## Linking Azure Data Lake Gen2"
   ]
  },
  {
   "cell_type": "code",
   "execution_count": 0,
   "metadata": {
    "application/vnd.databricks.v1+cell": {
     "cellMetadata": {
      "byteLimit": 2048000,
      "rowLimit": 10000
     },
     "inputWidgets": {},
     "nuid": "7735cf37-4631-4a86-ba3c-71b1383a766b",
     "showTitle": false,
     "tableResultSettingsMap": {},
     "title": ""
    }
   },
   "outputs": [],
   "source": [
    "\n",
    "spark.conf.set(f\"fs.azure.account.auth.type.{storage_account}.dfs.core.windows.net\", \"OAuth\")\n",
    "spark.conf.set(f\"fs.azure.account.oauth.provider.type.{storage_account}.dfs.core.windows.net\", \"org.apache.hadoop.fs.azurebfs.oauth2.ClientCredsTokenProvider\")\n",
    "spark.conf.set(f\"fs.azure.account.oauth2.client.id.{storage_account}.dfs.core.windows.net\", application_id)\n",
    "spark.conf.set(f\"fs.azure.account.oauth2.client.secret.{storage_account}.dfs.core.windows.net\", service_credential)\n",
    "spark.conf.set(f\"fs.azure.account.oauth2.client.endpoint.{storage_account}.dfs.core.windows.net\", f\"https://login.microsoftonline.com/{directory_id}/oauth2/token\")"
   ]
  },
  {
   "cell_type": "markdown",
   "metadata": {
    "application/vnd.databricks.v1+cell": {
     "cellMetadata": {
      "byteLimit": 2048000,
      "rowLimit": 10000
     },
     "inputWidgets": {},
     "nuid": "083e1e75-0e63-4c6c-a14f-30156bdae7e5",
     "showTitle": false,
     "tableResultSettingsMap": {},
     "title": ""
    }
   },
   "source": [
    "## Reading Datasets From ADLS Gen2"
   ]
  },
  {
   "cell_type": "code",
   "execution_count": 0,
   "metadata": {
    "application/vnd.databricks.v1+cell": {
     "cellMetadata": {
      "byteLimit": 2048000,
      "rowLimit": 10000
     },
     "inputWidgets": {},
     "nuid": "4938be31-b4b8-4363-93a4-b11024cb6afd",
     "showTitle": false,
     "tableResultSettingsMap": {},
     "title": ""
    }
   },
   "outputs": [],
   "source": [
    "\n",
    "storage_path = f\"abfss://{container_name}@{account_name}.dfs.core.windows.net/bronze/\""
   ]
  },
  {
   "cell_type": "code",
   "execution_count": 0,
   "metadata": {
    "application/vnd.databricks.v1+cell": {
     "cellMetadata": {
      "byteLimit": 2048000,
      "rowLimit": 10000
     },
     "inputWidgets": {},
     "nuid": "1ac02426-0f87-40f3-802a-dad8c7456533",
     "showTitle": false,
     "tableResultSettingsMap": {},
     "title": ""
    }
   },
   "outputs": [],
   "source": [
    "customer_df = spark.read.format(\"csv\").option('inferSchema',True).option('header',True).load(storage_path + 'customers.csv')\n",
    "orders_df = spark.read.format(\"csv\").option('inferSchema',True).option('header',True).load(storage_path + 'orders.csv')\n",
    "items_df = spark.read.format(\"csv\").option('inferSchema',True).option('header',True).load(storage_path + 'items.csv')\n",
    "payments_df = spark.read.format(\"csv\").option('inferSchema',True).option('header',True).load(storage_path + 'payments.csv')\n",
    "location_df = spark.read.format(\"csv\").option('inferSchema',True).option('header',True).load(storage_path + 'location.csv') \n",
    "products_df = spark.read.format(\"csv\").option('inferSchema',True).option('header',True).load(storage_path + 'products.csv') \n",
    "sellers_df = spark.read.format(\"csv\").option('inferSchema',True).option('header',True).load(storage_path + 'sellers.csv')\n",
    "review_df = spark.read.format(\"csv\").option('inferSchema',True).option('header',True).load(storage_path + 'reviews.csv')\n"
   ]
  },
  {
   "cell_type": "markdown",
   "metadata": {
    "application/vnd.databricks.v1+cell": {
     "cellMetadata": {
      "byteLimit": 2048000,
      "rowLimit": 10000
     },
     "inputWidgets": {},
     "nuid": "b35ad4c7-1a86-4596-83ac-33319456195d",
     "showTitle": false,
     "tableResultSettingsMap": {},
     "title": ""
    }
   },
   "source": [
    "# 2. Data Exploration / EDA"
   ]
  },
  {
   "cell_type": "markdown",
   "metadata": {
    "application/vnd.databricks.v1+cell": {
     "cellMetadata": {
      "byteLimit": 2048000,
      "rowLimit": 10000
     },
     "inputWidgets": {},
     "nuid": "ea1cabc0-3314-49b5-9f09-3bc6e2cb9c84",
     "showTitle": false,
     "tableResultSettingsMap": {},
     "title": ""
    }
   },
   "source": [
    "## Data Model"
   ]
  },
  {
   "cell_type": "markdown",
   "metadata": {
    "application/vnd.databricks.v1+cell": {
     "cellMetadata": {
      "byteLimit": 2048000,
      "rowLimit": 10000
     },
     "inputWidgets": {},
     "nuid": "2542e5c8-5c50-42dd-be07-06c6ebdff7e7",
     "showTitle": false,
     "tableResultSettingsMap": {},
     "title": ""
    }
   },
   "source": [
    "![Data Model](https://i.imgur.com/HRhd2Y0.png)"
   ]
  },
  {
   "cell_type": "code",
   "execution_count": 0,
   "metadata": {
    "application/vnd.databricks.v1+cell": {
     "cellMetadata": {
      "byteLimit": 2048000,
      "rowLimit": 10000
     },
     "inputWidgets": {},
     "nuid": "a7628e2d-08cf-4704-afcf-45f63d6a9ba8",
     "showTitle": false,
     "tableResultSettingsMap": {},
     "title": ""
    }
   },
   "outputs": [],
   "source": [
    "def print_schema(df, name):\n",
    "    if df is None:\n",
    "        print(f\"{name} is None. Cannot print schema.\")\n",
    "    else:\n",
    "        print(f\"Schema for {name}:\")\n",
    "        df.printSchema()"
   ]
  },
  {
   "cell_type": "code",
   "execution_count": 0,
   "metadata": {
    "application/vnd.databricks.v1+cell": {
     "cellMetadata": {
      "byteLimit": 2048000,
      "rowLimit": 10000
     },
     "inputWidgets": {},
     "nuid": "4e9198b0-80c6-472f-a6c9-51c82d4094a9",
     "showTitle": false,
     "tableResultSettingsMap": {},
     "title": ""
    }
   },
   "outputs": [
    {
     "output_type": "stream",
     "name": "stdout",
     "output_type": "stream",
     "text": [
      "Schema for customer dataset:\nroot\n |-- customer_id: string (nullable = true)\n |-- customer_unique_id: string (nullable = true)\n |-- customer_zip_code_prefix: integer (nullable = true)\n |-- customer_city: string (nullable = true)\n |-- customer_state: string (nullable = true)\n\nSchema for orders dataset:\nroot\n |-- order_id: string (nullable = true)\n |-- customer_id: string (nullable = true)\n |-- order_status: string (nullable = true)\n |-- order_purchase_timestamp: timestamp (nullable = true)\n |-- order_approved_at: timestamp (nullable = true)\n |-- order_delivered_carrier_date: timestamp (nullable = true)\n |-- order_delivered_customer_date: timestamp (nullable = true)\n |-- order_estimated_delivery_date: timestamp (nullable = true)\n\nSchema for items dataset:\nroot\n |-- order_id: string (nullable = true)\n |-- order_item_id: integer (nullable = true)\n |-- product_id: string (nullable = true)\n |-- seller_id: string (nullable = true)\n |-- shipping_limit_date: timestamp (nullable = true)\n |-- price: double (nullable = true)\n |-- freight_value: double (nullable = true)\n\nSchema for payments dataset:\nroot\n |-- order_id: string (nullable = true)\n |-- payment_sequential: integer (nullable = true)\n |-- payment_type: string (nullable = true)\n |-- payment_installments: integer (nullable = true)\n |-- payment_value: double (nullable = true)\n\nSchema for location dataset:\nroot\n |-- geolocation_zip_code_prefix: integer (nullable = true)\n |-- geolocation_city: string (nullable = true)\n |-- geolocation_state: string (nullable = true)\n\nSchema for products dataset:\nroot\n |-- product_id: string (nullable = true)\n |-- product_category_name: string (nullable = true)\n |-- product_name_lenght: integer (nullable = true)\n |-- product_description_lenght: integer (nullable = true)\n |-- product_photos_qty: integer (nullable = true)\n |-- product_weight_g: integer (nullable = true)\n |-- product_length_cm: integer (nullable = true)\n |-- product_height_cm: integer (nullable = true)\n |-- product_width_cm: integer (nullable = true)\n\nSchema for sellers dataset:\nroot\n |-- seller_id: string (nullable = true)\n |-- seller_zip_code_prefix: integer (nullable = true)\n |-- seller_city: string (nullable = true)\n |-- seller_state: string (nullable = true)\n\nSchema for review dataset:\nroot\n |-- review_id: string (nullable = true)\n |-- order_id: string (nullable = true)\n |-- review_score: string (nullable = true)\n |-- review_comment_title: string (nullable = true)\n |-- review_comment_message: string (nullable = true)\n |-- review_creation_date: string (nullable = true)\n |-- review_answer_timestamp: string (nullable = true)\n\nSchema for payments dataset:\nroot\n |-- order_id: string (nullable = true)\n |-- payment_sequential: integer (nullable = true)\n |-- payment_type: string (nullable = true)\n |-- payment_installments: integer (nullable = true)\n |-- payment_value: double (nullable = true)\n\n"
     ]
    }
   ],
   "source": [
    "print_schema(customer_df,'customer dataset')\n",
    "print_schema(orders_df,'orders dataset')\n",
    "print_schema(items_df,'items dataset')\n",
    "print_schema(payments_df,'payments dataset')\n",
    "print_schema(location_df,'location dataset')\n",
    "print_schema(products_df,'products dataset') \n",
    "print_schema(sellers_df,'sellers dataset')\n",
    "print_schema(review_df,'review dataset')\n",
    "print_schema(payments_df,'payments dataset')"
   ]
  },
  {
   "cell_type": "markdown",
   "metadata": {
    "application/vnd.databricks.v1+cell": {
     "cellMetadata": {
      "byteLimit": 2048000,
      "rowLimit": 10000
     },
     "inputWidgets": {},
     "nuid": "8670e198-16fd-419b-bd6b-9fc720a16727",
     "showTitle": false,
     "tableResultSettingsMap": {},
     "title": ""
    }
   },
   "source": [
    "# 3. Data Validation / Quality Analysis"
   ]
  },
  {
   "cell_type": "code",
   "execution_count": 0,
   "metadata": {
    "application/vnd.databricks.v1+cell": {
     "cellMetadata": {
      "byteLimit": 2048000,
      "rowLimit": 10000
     },
     "inputWidgets": {},
     "nuid": "00c1ba2b-afa7-46a0-b662-afad8a280ef4",
     "showTitle": false,
     "tableResultSettingsMap": {},
     "title": ""
    }
   },
   "outputs": [],
   "source": [
    "from pyspark.sql.functions import *\n",
    "\n",
    "def data_validation(df,name):\n",
    "    total_count = df.count()\n",
    "    unique = df.dropDuplicates().count()\n",
    "    dedup = total_count-unique\n",
    "\n",
    "    print(name)\n",
    "    print(f\"Total Count : {total_count}\")\n",
    "    print(f\"Total Duplicates : {dedup}\")\n",
    "    print(f\"Total Nulls : \")\n",
    "    \n",
    "    null_count = df.select([count(when(col(c).isNull(),1)).alias(c) for c in df.columns]).show(vertical=True)"
   ]
  },
  {
   "cell_type": "code",
   "execution_count": 0,
   "metadata": {
    "application/vnd.databricks.v1+cell": {
     "cellMetadata": {
      "byteLimit": 2048000,
      "rowLimit": 10000
     },
     "inputWidgets": {},
     "nuid": "a5ad3d30-d6ff-434c-8d23-54896bf3a4e3",
     "showTitle": false,
     "tableResultSettingsMap": {},
     "title": ""
    }
   },
   "outputs": [
    {
     "output_type": "stream",
     "name": "stdout",
     "output_type": "stream",
     "text": [
      "customer dataset\nTotal Count : 99441\nTotal Duplicates : 0\nTotal Nulls : \n-RECORD 0-----------------------\n customer_id              | 0   \n customer_unique_id       | 0   \n customer_zip_code_prefix | 0   \n customer_city            | 0   \n customer_state           | 0   \n\norders dataset\nTotal Count : 99441\nTotal Duplicates : 0\nTotal Nulls : \n-RECORD 0-----------------------------\n order_id                      | 0    \n customer_id                   | 0    \n order_status                  | 0    \n order_purchase_timestamp      | 0    \n order_approved_at             | 160  \n order_delivered_carrier_date  | 1783 \n order_delivered_customer_date | 2965 \n order_estimated_delivery_date | 0    \n\nitems dataset\nTotal Count : 112650\nTotal Duplicates : 0\nTotal Nulls : \n-RECORD 0------------------\n order_id            | 0   \n order_item_id       | 0   \n product_id          | 0   \n seller_id           | 0   \n shipping_limit_date | 0   \n price               | 0   \n freight_value       | 0   \n\npayments dataset\nTotal Count : 103886\nTotal Duplicates : 0\nTotal Nulls : \n-RECORD 0-------------------\n order_id             | 0   \n payment_sequential   | 0   \n payment_type         | 0   \n payment_installments | 0   \n payment_value        | 0   \n\nlocation dataset\nTotal Count : 1000163\nTotal Duplicates : 972252\nTotal Nulls : \n-RECORD 0--------------------------\n geolocation_zip_code_prefix | 0   \n geolocation_city            | 0   \n geolocation_state           | 0   \n\nproducts dataset\nTotal Count : 32951\nTotal Duplicates : 0\nTotal Nulls : \n-RECORD 0-------------------------\n product_id                 | 0   \n product_category_name      | 610 \n product_name_lenght        | 610 \n product_description_lenght | 610 \n product_photos_qty         | 610 \n product_weight_g           | 2   \n product_length_cm          | 2   \n product_height_cm          | 2   \n product_width_cm           | 2   \n\nsellers dataset\nTotal Count : 3095\nTotal Duplicates : 0\nTotal Nulls : \n-RECORD 0---------------------\n seller_id              | 0   \n seller_zip_code_prefix | 0   \n seller_city            | 0   \n seller_state           | 0   \n\nreview dataset\nTotal Count : 104162\nTotal Duplicates : 85\nTotal Nulls : \n-RECORD 0------------------------\n review_id               | 1     \n order_id                | 2236  \n review_score            | 2380  \n review_comment_title    | 92157 \n review_comment_message  | 63079 \n review_creation_date    | 8764  \n review_answer_timestamp | 8785  \n\npayments dataset\nTotal Count : 103886\nTotal Duplicates : 0\nTotal Nulls : \n-RECORD 0-------------------\n order_id             | 0   \n payment_sequential   | 0   \n payment_type         | 0   \n payment_installments | 0   \n payment_value        | 0   \n\n"
     ]
    }
   ],
   "source": [
    "data_validation(customer_df,'customer dataset')\n",
    "data_validation(orders_df,'orders dataset')\n",
    "data_validation(items_df,'items dataset')\n",
    "data_validation(payments_df,'payments dataset')\n",
    "data_validation(location_df,'location dataset')\n",
    "data_validation(products_df,'products dataset') \n",
    "data_validation(sellers_df,'sellers dataset')\n",
    "data_validation(review_df,'review dataset')\n",
    "data_validation(payments_df,'payments dataset')"
   ]
  },
  {
   "cell_type": "markdown",
   "metadata": {
    "application/vnd.databricks.v1+cell": {
     "cellMetadata": {
      "byteLimit": 2048000,
      "rowLimit": 10000
     },
     "inputWidgets": {},
     "nuid": "8f2172ca-5b8b-4f1f-95bc-9b1ce0e95cf0",
     "showTitle": false,
     "tableResultSettingsMap": {},
     "title": ""
    }
   },
   "source": [
    "# 4. Data Curation"
   ]
  },
  {
   "cell_type": "markdown",
   "metadata": {
    "application/vnd.databricks.v1+cell": {
     "cellMetadata": {
      "byteLimit": 2048000,
      "rowLimit": 10000
     },
     "inputWidgets": {},
     "nuid": "ce255de1-8b5c-4f2c-9e04-adc71c8dedac",
     "showTitle": false,
     "tableResultSettingsMap": {},
     "title": ""
    }
   },
   "source": [
    "## Analysing Required Columns"
   ]
  },
  {
   "cell_type": "code",
   "execution_count": 0,
   "metadata": {
    "application/vnd.databricks.v1+cell": {
     "cellMetadata": {
      "byteLimit": 2048000,
      "rowLimit": 10000
     },
     "inputWidgets": {},
     "nuid": "dd4f654f-ae9a-4821-b3f4-eeb8845772cb",
     "showTitle": false,
     "tableResultSettingsMap": {},
     "title": ""
    }
   },
   "outputs": [],
   "source": [
    "order = orders_df.select('order_id','order_status','order_purchase_timestamp','order_delivered_customer_date','order_estimated_delivery_date','customer_id')\n",
    "\n",
    "customer = customer_df.select('customer_id','customer_city','customer_state')\n",
    "\n",
    "item = items_df.select(\"order_id\",\"product_id\",\"seller_id\",\"price\",\"freight_value\")\n",
    "\n",
    "payment = payments_df.select('order_id','payment_type','payment_value')\n",
    "\n",
    "product = products_df.select('product_id','product_category_name')\n",
    "\n",
    "review = review_df.select(\"order_id\",'review_score')"
   ]
  },
  {
   "cell_type": "markdown",
   "metadata": {
    "application/vnd.databricks.v1+cell": {
     "cellMetadata": {
      "byteLimit": 2048000,
      "rowLimit": 10000
     },
     "inputWidgets": {},
     "nuid": "df96d848-c289-4328-9c26-e20cd2ed2a1a",
     "showTitle": false,
     "tableResultSettingsMap": {},
     "title": ""
    }
   },
   "source": [
    "## Joining Dataset"
   ]
  },
  {
   "cell_type": "code",
   "execution_count": 0,
   "metadata": {
    "application/vnd.databricks.v1+cell": {
     "cellMetadata": {
      "byteLimit": 2048000,
      "rowLimit": 10000
     },
     "inputWidgets": {},
     "nuid": "6912f6c2-7d3c-4eed-86cf-9d1837520610",
     "showTitle": false,
     "tableResultSettingsMap": {},
     "title": ""
    }
   },
   "outputs": [],
   "source": [
    "from pyspark.sql.functions import broadcast\n",
    "\n",
    "final_df = order.join(broadcast(customer),on='customer_id',how='left') \\\n",
    "                .join(broadcast(review),on='order_id',how='left') \\\n",
    "                .join(payment,on='order_id',how='left') \\\n",
    "                .join(item,on='order_id',how='left') \\\n",
    "                .join(broadcast(product),on='product_id',how='left')"
   ]
  },
  {
   "cell_type": "code",
   "execution_count": 0,
   "metadata": {
    "application/vnd.databricks.v1+cell": {
     "cellMetadata": {
      "byteLimit": 2048000,
      "rowLimit": 10000
     },
     "inputWidgets": {},
     "nuid": "f7a19133-7157-4b9a-a6a0-ba196a61a4fc",
     "showTitle": false,
     "tableResultSettingsMap": {},
     "title": ""
    }
   },
   "outputs": [
    {
     "output_type": "stream",
     "name": "stdout",
     "output_type": "stream",
     "text": [
      "root\n |-- product_id: string (nullable = true)\n |-- order_id: string (nullable = true)\n |-- customer_id: string (nullable = true)\n |-- order_status: string (nullable = true)\n |-- order_purchase_timestamp: timestamp (nullable = true)\n |-- order_delivered_customer_date: timestamp (nullable = true)\n |-- order_estimated_delivery_date: timestamp (nullable = true)\n |-- customer_city: string (nullable = true)\n |-- customer_state: string (nullable = true)\n |-- review_score: string (nullable = true)\n |-- payment_type: string (nullable = true)\n |-- payment_value: double (nullable = true)\n |-- seller_id: string (nullable = true)\n |-- price: double (nullable = true)\n |-- freight_value: double (nullable = true)\n |-- product_category_name: string (nullable = true)\n\n"
     ]
    }
   ],
   "source": [
    "final_df.printSchema()"
   ]
  },
  {
   "cell_type": "markdown",
   "metadata": {
    "application/vnd.databricks.v1+cell": {
     "cellMetadata": {
      "byteLimit": 2048000,
      "rowLimit": 10000
     },
     "inputWidgets": {},
     "nuid": "60b87b7f-a7e9-4652-a10f-ad653ab3ceef",
     "showTitle": false,
     "tableResultSettingsMap": {},
     "title": ""
    }
   },
   "source": [
    "# 5. Optimization : Caching on final_df"
   ]
  },
  {
   "cell_type": "code",
   "execution_count": 0,
   "metadata": {
    "application/vnd.databricks.v1+cell": {
     "cellMetadata": {
      "byteLimit": 2048000,
      "rowLimit": 10000
     },
     "inputWidgets": {},
     "nuid": "68faf1dc-8324-4521-9dc0-b102b500daa4",
     "showTitle": false,
     "tableResultSettingsMap": {},
     "title": ""
    }
   },
   "outputs": [
    {
     "output_type": "execute_result",
     "data": {
      "text/plain": [
       "DataFrame[product_id: string, order_id: string, customer_id: string, order_status: string, order_purchase_timestamp: timestamp, order_delivered_customer_date: timestamp, order_estimated_delivery_date: timestamp, customer_city: string, customer_state: string, review_score: string, payment_type: string, payment_value: double, seller_id: string, price: double, freight_value: double, product_category_name: string]"
      ]
     },
     "execution_count": 11,
     "metadata": {},
     "output_type": "execute_result"
    }
   ],
   "source": [
    "final_df.cache()"
   ]
  },
  {
   "cell_type": "code",
   "execution_count": 0,
   "metadata": {
    "application/vnd.databricks.v1+cell": {
     "cellMetadata": {
      "byteLimit": 2048000,
      "rowLimit": 10000
     },
     "inputWidgets": {},
     "nuid": "58f4148d-9220-4c72-929b-ef783b93db98",
     "showTitle": false,
     "tableResultSettingsMap": {},
     "title": ""
    }
   },
   "outputs": [
    {
     "output_type": "execute_result",
     "data": {
      "text/plain": [
       "['product_id',\n",
       " 'order_id',\n",
       " 'customer_id',\n",
       " 'order_status',\n",
       " 'order_purchase_timestamp',\n",
       " 'order_delivered_customer_date',\n",
       " 'order_estimated_delivery_date',\n",
       " 'customer_city',\n",
       " 'customer_state',\n",
       " 'review_score',\n",
       " 'payment_type',\n",
       " 'payment_value',\n",
       " 'seller_id',\n",
       " 'price',\n",
       " 'freight_value',\n",
       " 'product_category_name']"
      ]
     },
     "execution_count": 337,
     "metadata": {},
     "output_type": "execute_result"
    }
   ],
   "source": [
    "final_df.columns"
   ]
  },
  {
   "cell_type": "markdown",
   "metadata": {
    "application/vnd.databricks.v1+cell": {
     "cellMetadata": {
      "byteLimit": 2048000,
      "rowLimit": 10000
     },
     "inputWidgets": {},
     "nuid": "584dd746-c1e9-4e1d-b1c7-09dd26d4b2b0",
     "showTitle": false,
     "tableResultSettingsMap": {},
     "title": ""
    }
   },
   "source": [
    "# 6. Re-Validation on Merged Dataset"
   ]
  },
  {
   "cell_type": "code",
   "execution_count": 0,
   "metadata": {
    "application/vnd.databricks.v1+cell": {
     "cellMetadata": {
      "byteLimit": 2048000,
      "rowLimit": 10000
     },
     "inputWidgets": {},
     "nuid": "09c1af40-7dfc-46d7-91a9-a2a530d51144",
     "showTitle": false,
     "tableResultSettingsMap": {},
     "title": ""
    }
   },
   "outputs": [
    {
     "output_type": "stream",
     "name": "stdout",
     "output_type": "stream",
     "text": [
      "Merged Dataset\nTotal Count : 119143\nTotal Duplicates : 11696\nTotal Nulls : \n-RECORD 0-----------------------------\n product_id                    | 833  \n order_id                      | 0    \n customer_id                   | 0    \n order_status                  | 0    \n order_purchase_timestamp      | 0    \n order_delivered_customer_date | 3421 \n order_estimated_delivery_date | 0    \n customer_city                 | 0    \n customer_state                | 0    \n review_score                  | 997  \n payment_type                  | 3    \n payment_value                 | 3    \n seller_id                     | 833  \n price                         | 833  \n freight_value                 | 833  \n product_category_name         | 2542 \n\n"
     ]
    }
   ],
   "source": [
    "data_validation(final_df,\"Merged Dataset\")"
   ]
  },
  {
   "cell_type": "markdown",
   "metadata": {
    "application/vnd.databricks.v1+cell": {
     "cellMetadata": {
      "byteLimit": 2048000,
      "rowLimit": 10000
     },
     "inputWidgets": {},
     "nuid": "17fd6b11-1b38-4926-8564-373bedeb0fda",
     "showTitle": false,
     "tableResultSettingsMap": {},
     "title": ""
    }
   },
   "source": [
    "# 7. Data Transformation"
   ]
  },
  {
   "cell_type": "markdown",
   "metadata": {
    "application/vnd.databricks.v1+cell": {
     "cellMetadata": {
      "byteLimit": 2048000,
      "rowLimit": 10000
     },
     "inputWidgets": {},
     "nuid": "d9f5041f-ddf1-4944-9549-0402f54996de",
     "showTitle": false,
     "tableResultSettingsMap": {},
     "title": ""
    }
   },
   "source": [
    "## Renaming Columns "
   ]
  },
  {
   "cell_type": "code",
   "execution_count": 0,
   "metadata": {
    "application/vnd.databricks.v1+cell": {
     "cellMetadata": {
      "byteLimit": 2048000,
      "rowLimit": 10000
     },
     "inputWidgets": {},
     "nuid": "c9b91af3-74c8-479b-adc9-384369d5b670",
     "showTitle": false,
     "tableResultSettingsMap": {},
     "title": ""
    }
   },
   "outputs": [],
   "source": [
    "final_df = final_df.withColumnRenamed(\"order_purchase_timestamp\",\"purchase_ts\")\n",
    "final_df = final_df.withColumnRenamed(\"order_delivered_customer_date\",\"delivered_date\")\n",
    "final_df = final_df.withColumnRenamed(\"order_estimated_delivery_date\",\"est_delivery\")\n",
    "final_df = final_df.withColumnRenamed(\"product_category_name\",\"category\")\n",
    "final_df = final_df.withColumnRenamed(\"payment_type\",\"pay_type\")\n",
    "final_df = final_df.withColumnRenamed(\"seller_id\",\"seller\")\n",
    "final_df = final_df.withColumnRenamed(\"product_id\",\"product\")\n",
    "final_df = final_df.withColumnRenamed(\"freight_value\",\"shipping_fee\")"
   ]
  },
  {
   "cell_type": "code",
   "execution_count": 0,
   "metadata": {
    "application/vnd.databricks.v1+cell": {
     "cellMetadata": {
      "byteLimit": 2048000,
      "rowLimit": 10000
     },
     "inputWidgets": {},
     "nuid": "0429e47f-7846-4d27-8695-be71ff78cd9e",
     "showTitle": false,
     "tableResultSettingsMap": {},
     "title": ""
    }
   },
   "outputs": [
    {
     "output_type": "stream",
     "name": "stdout",
     "output_type": "stream",
     "text": [
      "root\n |-- product: string (nullable = true)\n |-- order_id: string (nullable = true)\n |-- customer_id: string (nullable = true)\n |-- order_status: string (nullable = true)\n |-- purchase_ts: timestamp (nullable = true)\n |-- delivered_date: timestamp (nullable = true)\n |-- est_delivery: timestamp (nullable = true)\n |-- customer_city: string (nullable = true)\n |-- customer_state: string (nullable = true)\n |-- review_score: string (nullable = true)\n |-- pay_type: string (nullable = true)\n |-- payment_value: double (nullable = true)\n |-- seller: string (nullable = true)\n |-- price: double (nullable = true)\n |-- shipping_fee: double (nullable = true)\n |-- category: string (nullable = true)\n\n"
     ]
    }
   ],
   "source": [
    "final_df.printSchema()"
   ]
  },
  {
   "cell_type": "markdown",
   "metadata": {
    "application/vnd.databricks.v1+cell": {
     "cellMetadata": {
      "byteLimit": 2048000,
      "rowLimit": 10000
     },
     "inputWidgets": {},
     "nuid": "49d61aa6-bf37-41b6-b946-c64009d6a3a8",
     "showTitle": false,
     "tableResultSettingsMap": {},
     "title": ""
    }
   },
   "source": [
    "## Structuring Columns"
   ]
  },
  {
   "cell_type": "code",
   "execution_count": 0,
   "metadata": {
    "application/vnd.databricks.v1+cell": {
     "cellMetadata": {
      "byteLimit": 2048000,
      "rowLimit": 10000
     },
     "inputWidgets": {},
     "nuid": "67f8be5d-41c4-448e-97fa-7c85ac86b163",
     "showTitle": false,
     "tableResultSettingsMap": {},
     "title": ""
    }
   },
   "outputs": [
    {
     "output_type": "stream",
     "name": "stdout",
     "output_type": "stream",
     "text": [
      "+------------+-------------+-----+------------+\n|review_score|payment_value|price|shipping_fee|\n+------------+-------------+-----+------------+\n|           4|        18.59|29.99|        8.72|\n|           4|          2.0|29.99|        8.72|\n|           4|        18.12|29.99|        8.72|\n|           4|       141.46|118.7|       22.76|\n|           5|       179.12|159.9|       19.22|\n|           5|         72.2| 45.0|        27.2|\n|           5|        28.62| 19.9|        8.72|\n|           4|       175.26|147.9|       27.36|\n|           2|        65.95| 49.9|       16.05|\n|           5|        75.16|59.99|       15.17|\n+------------+-------------+-----+------------+\nonly showing top 10 rows\n\n"
     ]
    }
   ],
   "source": [
    "final_df.select('review_score','payment_value','price','shipping_fee').show(10)"
   ]
  },
  {
   "cell_type": "code",
   "execution_count": 0,
   "metadata": {
    "application/vnd.databricks.v1+cell": {
     "cellMetadata": {
      "byteLimit": 2048000,
      "rowLimit": 10000
     },
     "inputWidgets": {},
     "nuid": "4f8c60e9-d8b7-4e7c-b1a6-4163e9217cdb",
     "showTitle": false,
     "tableResultSettingsMap": {},
     "title": ""
    }
   },
   "outputs": [],
   "source": [
    "from pyspark.sql.functions import *\n",
    "\n",
    "final_df = final_df.withColumn('review_score',col('review_score').cast('Integer'))"
   ]
  },
  {
   "cell_type": "code",
   "execution_count": 0,
   "metadata": {
    "application/vnd.databricks.v1+cell": {
     "cellMetadata": {
      "byteLimit": 2048000,
      "rowLimit": 10000
     },
     "inputWidgets": {},
     "nuid": "d73b4dee-8fe2-4e63-9b62-f109cbe084f4",
     "showTitle": false,
     "tableResultSettingsMap": {},
     "title": ""
    }
   },
   "outputs": [
    {
     "output_type": "stream",
     "name": "stdout",
     "output_type": "stream",
     "text": [
      "root\n |-- product: string (nullable = true)\n |-- order_id: string (nullable = true)\n |-- customer_id: string (nullable = true)\n |-- order_status: string (nullable = true)\n |-- purchase_ts: timestamp (nullable = true)\n |-- delivered_date: timestamp (nullable = true)\n |-- est_delivery: timestamp (nullable = true)\n |-- customer_city: string (nullable = true)\n |-- customer_state: string (nullable = true)\n |-- review_score: integer (nullable = true)\n |-- pay_type: string (nullable = true)\n |-- payment_value: double (nullable = true)\n |-- seller: string (nullable = true)\n |-- price: double (nullable = true)\n |-- shipping_fee: double (nullable = true)\n |-- category: string (nullable = true)\n\n"
     ]
    }
   ],
   "source": [
    "final_df.printSchema()"
   ]
  },
  {
   "cell_type": "markdown",
   "metadata": {
    "application/vnd.databricks.v1+cell": {
     "cellMetadata": {
      "byteLimit": 2048000,
      "rowLimit": 10000
     },
     "inputWidgets": {},
     "nuid": "0bfde9f7-8d25-4f78-9822-a40f4de1da90",
     "showTitle": false,
     "tableResultSettingsMap": {},
     "title": ""
    }
   },
   "source": [
    "## Data Cleaning"
   ]
  },
  {
   "cell_type": "code",
   "execution_count": 0,
   "metadata": {
    "application/vnd.databricks.v1+cell": {
     "cellMetadata": {
      "byteLimit": 2048000,
      "rowLimit": 10000
     },
     "inputWidgets": {},
     "nuid": "f9ee1a89-738b-4c01-a829-cded04e32573",
     "showTitle": false,
     "tableResultSettingsMap": {},
     "title": ""
    }
   },
   "outputs": [],
   "source": [
    "final_df = final_df.dropDuplicates()"
   ]
  },
  {
   "cell_type": "code",
   "execution_count": 0,
   "metadata": {
    "application/vnd.databricks.v1+cell": {
     "cellMetadata": {
      "byteLimit": 2048000,
      "rowLimit": 10000
     },
     "inputWidgets": {},
     "nuid": "093d3d63-c8c9-45c6-8897-fef434b6836f",
     "showTitle": false,
     "tableResultSettingsMap": {},
     "title": ""
    }
   },
   "outputs": [
    {
     "output_type": "stream",
     "name": "stdout",
     "output_type": "stream",
     "text": [
      "Deduped Data\nTotal Count : 107447\nTotal Duplicates : 0\nTotal Nulls : \n-RECORD 0--------------\n product        | 812  \n order_id       | 0    \n customer_id    | 0    \n order_status   | 0    \n purchase_ts    | 0    \n delivered_date | 3153 \n est_delivery   | 0    \n customer_city  | 0    \n customer_state | 0    \n review_score   | 847  \n pay_type       | 1    \n payment_value  | 1    \n seller         | 812  \n price          | 812  \n shipping_fee   | 812  \n category       | 2341 \n\n"
     ]
    }
   ],
   "source": [
    "data_validation(final_df,'Deduped Data')"
   ]
  },
  {
   "cell_type": "markdown",
   "metadata": {
    "application/vnd.databricks.v1+cell": {
     "cellMetadata": {
      "byteLimit": 2048000,
      "rowLimit": 10000
     },
     "inputWidgets": {},
     "nuid": "020de64d-8467-46e3-ac41-e603b3bf3d96",
     "showTitle": false,
     "tableResultSettingsMap": {},
     "title": ""
    }
   },
   "source": [
    "# 8. Data Serving to Silver Layer"
   ]
  },
  {
   "cell_type": "code",
   "execution_count": 0,
   "metadata": {
    "application/vnd.databricks.v1+cell": {
     "cellMetadata": {
      "byteLimit": 2048000,
      "rowLimit": 10000
     },
     "inputWidgets": {},
     "nuid": "ec11c2d6-ac2e-42c0-bf1b-6c5e21165332",
     "showTitle": false,
     "tableResultSettingsMap": {},
     "title": ""
    }
   },
   "outputs": [],
   "source": [
    "silver_path = f\"abfss://{container_name}@{account_name}.dfs.core.windows.net/silver/\""
   ]
  },
  {
   "cell_type": "code",
   "execution_count": 0,
   "metadata": {
    "application/vnd.databricks.v1+cell": {
     "cellMetadata": {
      "byteLimit": 2048000,
      "rowLimit": 10000
     },
     "inputWidgets": {},
     "nuid": "32caebe1-193c-4efa-9c6c-211ad26b6aca",
     "showTitle": false,
     "tableResultSettingsMap": {},
     "title": ""
    }
   },
   "outputs": [],
   "source": [
    "# Storing Transformed dataset into Silver layer\n",
    "\n",
    "final_df.write \\\n",
    "    .mode(\"overwrite\") \\\n",
    "    .format('delta') \\\n",
    "    .save(silver_path)"
   ]
  },
  {
   "cell_type": "markdown",
   "metadata": {
    "application/vnd.databricks.v1+cell": {
     "cellMetadata": {
      "byteLimit": 2048000,
      "rowLimit": 10000
     },
     "inputWidgets": {},
     "nuid": "70a2fec9-00f9-4524-ad1c-cf92ca2732c0",
     "showTitle": false,
     "tableResultSettingsMap": {},
     "title": ""
    }
   },
   "source": [
    "# 9 Feature Engineering"
   ]
  },
  {
   "cell_type": "code",
   "execution_count": 0,
   "metadata": {
    "application/vnd.databricks.v1+cell": {
     "cellMetadata": {
      "byteLimit": 2048000,
      "rowLimit": 10000
     },
     "inputWidgets": {},
     "nuid": "8a4b2c4f-0ac9-4430-b77d-b414c27a996b",
     "showTitle": false,
     "tableResultSettingsMap": {},
     "title": ""
    }
   },
   "outputs": [],
   "source": [
    "# filling nulls with mean values on price , payment_value and shipping_fee\n",
    "\n",
    "from pyspark.sql.functions import col\n",
    "\n",
    "def impute_with_mean(df, columns):\n",
    "    for c in columns:\n",
    "        mean_val = df.selectExpr(f\"avg({c}) as mean\").collect()[0]['mean']\n",
    "        df = df.fillna({c: mean_val})\n",
    "    return df\n",
    "\n",
    "final_df = impute_with_mean(final_df, ['price', 'payment_value', 'shipping_fee','review_score'])"
   ]
  },
  {
   "cell_type": "code",
   "execution_count": 0,
   "metadata": {
    "application/vnd.databricks.v1+cell": {
     "cellMetadata": {
      "byteLimit": 2048000,
      "rowLimit": 10000
     },
     "inputWidgets": {},
     "nuid": "b383987d-5f49-4c02-bd17-7ef800a3fa26",
     "showTitle": false,
     "tableResultSettingsMap": {},
     "title": ""
    }
   },
   "outputs": [
    {
     "output_type": "stream",
     "name": "stdout",
     "output_type": "stream",
     "text": [
      "root\n |-- product: string (nullable = true)\n |-- order_id: string (nullable = true)\n |-- customer_id: string (nullable = true)\n |-- order_status: string (nullable = true)\n |-- purchase_ts: timestamp (nullable = true)\n |-- delivered_date: timestamp (nullable = true)\n |-- est_delivery: timestamp (nullable = true)\n |-- customer_city: string (nullable = true)\n |-- customer_state: string (nullable = true)\n |-- review_score: integer (nullable = true)\n |-- pay_type: string (nullable = true)\n |-- payment_value: double (nullable = false)\n |-- seller: string (nullable = true)\n |-- price: double (nullable = false)\n |-- shipping_fee: double (nullable = false)\n |-- category: string (nullable = true)\n\n"
     ]
    }
   ],
   "source": [
    "final_df.printSchema()"
   ]
  },
  {
   "cell_type": "code",
   "execution_count": 0,
   "metadata": {
    "application/vnd.databricks.v1+cell": {
     "cellMetadata": {
      "byteLimit": 2048000,
      "rowLimit": 10000
     },
     "inputWidgets": {},
     "nuid": "367b71e9-c9fa-4176-a432-9dc6c7f97c9e",
     "showTitle": false,
     "tableResultSettingsMap": {},
     "title": ""
    }
   },
   "outputs": [],
   "source": [
    "# filling nulls on delivered_date with estimated delivery date\n",
    "\n",
    "from pyspark.sql.functions import when, col\n",
    "\n",
    "final_df = final_df.withColumn(\n",
    "    \"delivered_date\",\n",
    "    when(col(\"delivered_date\").isNull(), col(\"est_delivery\")).otherwise(col(\"delivered_date\"))\n",
    ")"
   ]
  },
  {
   "cell_type": "code",
   "execution_count": 0,
   "metadata": {
    "application/vnd.databricks.v1+cell": {
     "cellMetadata": {
      "byteLimit": 2048000,
      "rowLimit": 10000
     },
     "inputWidgets": {},
     "nuid": "198e3cd7-672a-4e1d-a247-1f84572d1f99",
     "showTitle": false,
     "tableResultSettingsMap": {},
     "title": ""
    }
   },
   "outputs": [
    {
     "output_type": "stream",
     "name": "stdout",
     "output_type": "stream",
     "text": [
      "+-------------------+-------------------+\n|   min(purchase_ts)|   max(purchase_ts)|\n+-------------------+-------------------+\n|2016-09-04 21:15:19|2018-10-17 17:30:18|\n+-------------------+-------------------+\n\n"
     ]
    }
   ],
   "source": [
    "# Extracting Year From Pruchase Date\n",
    "\n",
    "final_df.select(min('purchase_ts'),max('purchase_ts')).show()"
   ]
  },
  {
   "cell_type": "code",
   "execution_count": 0,
   "metadata": {
    "application/vnd.databricks.v1+cell": {
     "cellMetadata": {
      "byteLimit": 2048000,
      "rowLimit": 10000
     },
     "inputWidgets": {},
     "nuid": "35045f05-b90e-4ed1-b179-38fe8324980c",
     "showTitle": false,
     "tableResultSettingsMap": {},
     "title": ""
    }
   },
   "outputs": [],
   "source": [
    "final_df = final_df.withColumn(\n",
    "    \"year\", \\\n",
    "    year(col(\"purchase_ts\"))    \n",
    ")"
   ]
  },
  {
   "cell_type": "code",
   "execution_count": 0,
   "metadata": {
    "application/vnd.databricks.v1+cell": {
     "cellMetadata": {
      "byteLimit": 2048000,
      "rowLimit": 10000
     },
     "inputWidgets": {},
     "nuid": "8c2e6df6-f0f4-459d-995d-3fbb461c3a7a",
     "showTitle": false,
     "tableResultSettingsMap": {},
     "title": ""
    }
   },
   "outputs": [],
   "source": [
    "# finding Delivery Gap (delivery_gap = delivered_date - purchase_date)\n",
    "\n",
    "from pyspark.sql.functions import datediff, col\n",
    "\n",
    "final_df = final_df.withColumn(\n",
    "    \"delivery_gap\",\n",
    "    datediff(col(\"delivered_date\").cast(\"date\"), col(\"purchase_ts\").cast(\"date\"))\n",
    ")"
   ]
  },
  {
   "cell_type": "markdown",
   "metadata": {
    "application/vnd.databricks.v1+cell": {
     "cellMetadata": {
      "byteLimit": 2048000,
      "rowLimit": 10000
     },
     "inputWidgets": {},
     "nuid": "49ae7ca2-8483-4a5a-8044-44896cc5aa21",
     "showTitle": false,
     "tableResultSettingsMap": {},
     "title": ""
    }
   },
   "source": [
    "# 10. Business Insights"
   ]
  },
  {
   "cell_type": "code",
   "execution_count": 0,
   "metadata": {
    "application/vnd.databricks.v1+cell": {
     "cellMetadata": {
      "byteLimit": 2048000,
      "rowLimit": 10000
     },
     "inputWidgets": {},
     "nuid": "97cd65c8-be82-47fa-b68a-6a339b88657b",
     "showTitle": false,
     "tableResultSettingsMap": {},
     "title": ""
    }
   },
   "outputs": [
    {
     "output_type": "display_data",
     "data": {
      "text/html": [
       "<style scoped>\n",
       "  .table-result-container {\n",
       "    max-height: 300px;\n",
       "    overflow: auto;\n",
       "  }\n",
       "  table, th, td {\n",
       "    border: 1px solid black;\n",
       "    border-collapse: collapse;\n",
       "  }\n",
       "  th, td {\n",
       "    padding: 5px;\n",
       "  }\n",
       "  th {\n",
       "    text-align: left;\n",
       "  }\n",
       "</style><div class='table-result-container'><table class='table-result'><thead style='background-color: white'><tr><th>customer_id</th><th>total_spent</th></tr></thead><tbody><tr><td>71901689c5f3e5adc27b1dd16b33f0b8</td><td>15978.65</td></tr><tr><td>1617b1357756262bfa56ab541c47bc16</td><td>13664.08</td></tr><tr><td>0d861a5e4dd6a9079d89e1330848f0ab</td><td>9258.24</td></tr><tr><td>cc803a2c412833101651d3f90ca7de24</td><td>8891.0</td></tr><tr><td>30bb84b541c96af98ba7d90b9ebf35d0</td><td>8697.99</td></tr><tr><td>5e312b0d9bf5c91599eb42120e633b19</td><td>8530.14</td></tr><tr><td>ec5b2ba62e574342386871631fafd3fc</td><td>7274.88</td></tr><tr><td>c6e2731c5b391845f6800c97401a43a9</td><td>6929.31</td></tr><tr><td>f48d464a0baaea338cb25f816991ab1f</td><td>6922.21</td></tr><tr><td>3fd6777bbce08a352fddd04e4a7cc8f6</td><td>6726.66</td></tr></tbody></table></div>"
      ]
     },
     "metadata": {
      "application/vnd.databricks.v1+output": {
       "addedWidgets": {},
       "aggData": [],
       "aggError": "",
       "aggOverflow": false,
       "aggSchema": [],
       "aggSeriesLimitReached": false,
       "aggType": "",
       "arguments": {},
       "columnCustomDisplayInfos": {},
       "data": [
        [
         "71901689c5f3e5adc27b1dd16b33f0b8",
         15978.65
        ],
        [
         "1617b1357756262bfa56ab541c47bc16",
         13664.08
        ],
        [
         "0d861a5e4dd6a9079d89e1330848f0ab",
         9258.24
        ],
        [
         "cc803a2c412833101651d3f90ca7de24",
         8891.0
        ],
        [
         "30bb84b541c96af98ba7d90b9ebf35d0",
         8697.99
        ],
        [
         "5e312b0d9bf5c91599eb42120e633b19",
         8530.14
        ],
        [
         "ec5b2ba62e574342386871631fafd3fc",
         7274.88
        ],
        [
         "c6e2731c5b391845f6800c97401a43a9",
         6929.31
        ],
        [
         "f48d464a0baaea338cb25f816991ab1f",
         6922.21
        ],
        [
         "3fd6777bbce08a352fddd04e4a7cc8f6",
         6726.66
        ]
       ],
       "datasetInfos": [],
       "dbfsResultPath": null,
       "isJsonSchema": true,
       "metadata": {},
       "overflow": false,
       "plotOptions": {
        "customPlotOptions": {},
        "displayType": "table",
        "pivotAggregation": null,
        "pivotColumns": null,
        "xColumns": null,
        "yColumns": null
       },
       "removedWidgets": [],
       "schema": [
        {
         "metadata": "{}",
         "name": "customer_id",
         "type": "\"string\""
        },
        {
         "metadata": "{}",
         "name": "total_spent",
         "type": "\"double\""
        }
       ],
       "type": "table"
      }
     },
     "output_type": "display_data"
    },
    {
     "output_type": "display_data",
     "data": {
      "text/plain": [
       "Databricks visualization. Run in Databricks to view."
      ]
     },
     "metadata": {
      "application/vnd.databricks.v1.subcommand+json": {
       "baseErrorDetails": null,
       "bindings": {},
       "collapsed": false,
       "command": "%python\n__backend_agg_display_orig = display\n__backend_agg_dfs = []\ndef __backend_agg_display_new(df):\n    __backend_agg_df_modules = [\"pandas.core.frame\", \"databricks.koalas.frame\", \"pyspark.sql.dataframe\", \"pyspark.pandas.frame\", \"pyspark.sql.connect.dataframe\"]\n    if (type(df).__module__ in __backend_agg_df_modules and type(df).__name__ == 'DataFrame') or isinstance(df, list):\n        __backend_agg_dfs.append(df)\n\ndisplay = __backend_agg_display_new\n\ndef __backend_agg_user_code_fn():\n    import base64\n    exec(base64.standard_b64decode(\"IyBBbmFseXNpbmcgVG9wIDEwIEN1c3RvbWVycyBiYXNlZCBvbiBUb3RhbCBTcGVudAoKdG9wX2N1dG9tZXJzID0gZmluYWxfZGYuZ3JvdXBCeSgiY3VzdG9tZXJfaWQiKVwKICAgIC5hZ2coc3VtKCdwYXltZW50X3ZhbHVlJykuYWxpYXMoJ3RvdGFsX3NwZW50JykpIFwKICAgIC5vcmRlckJ5KGRlc2MoJ3RvdGFsX3NwZW50JykpIFwKICAgIC5saW1pdCgxMCkgCiAKZGlzcGxheSh0b3BfY3V0b21lcnMp\").decode())\n\ntry:\n    # run user code\n    __backend_agg_user_code_fn()\n\n    #reset display function\n    display = __backend_agg_display_orig\n\n    if len(__backend_agg_dfs) > 0:\n        # create a temp view\n        if type(__backend_agg_dfs[0]).__module__ == \"databricks.koalas.frame\":\n            # koalas dataframe\n            __backend_agg_dfs[0].to_spark().createOrReplaceTempView(\"DatabricksView5216478\")\n        elif type(__backend_agg_dfs[0]).__module__ == \"pandas.core.frame\" or isinstance(__backend_agg_dfs[0], list):\n            # pandas dataframe\n            spark.createDataFrame(__backend_agg_dfs[0]).createOrReplaceTempView(\"DatabricksView5216478\")\n        else:\n            __backend_agg_dfs[0].createOrReplaceTempView(\"DatabricksView5216478\")\n        #run backend agg\n        display(spark.sql(\"\"\"WITH q AS (select * from DatabricksView5216478) SELECT `customer_id`,SUM(`total_spent`) `column_42349241174` FROM q GROUP BY `customer_id`\"\"\"))\n    else:\n        displayHTML(\"dataframe no longer exists. If you're using dataframe.display(), use display(dataframe) instead.\")\n\n\nfinally:\n    spark.sql(\"drop view if exists DatabricksView5216478\")\n    display = __backend_agg_display_orig\n    del __backend_agg_display_new\n    del __backend_agg_display_orig\n    del __backend_agg_dfs\n    del __backend_agg_user_code_fn\n\n",
       "commandTitle": "Visualization 1",
       "commandType": "auto",
       "commandVersion": 0,
       "commentThread": [],
       "commentsVisible": false,
       "contentSha256Hex": null,
       "customPlotOptions": {
        "redashChart": [
         {
          "key": "type",
          "value": "CHART"
         },
         {
          "key": "options",
          "value": {
           "alignYAxesAtZero": true,
           "coefficient": 1,
           "columnConfigurationMap": {
            "x": {
             "column": "customer_id",
             "id": "column_42349241177"
            },
            "y": [
             {
              "column": "total_spent",
              "id": "column_42349241174",
              "transform": "SUM"
             }
            ]
           },
           "dateTimeFormat": "DD/MM/YYYY HH:mm",
           "direction": {
            "type": "counterclockwise"
           },
           "error_y": {
            "type": "data",
            "visible": true
           },
           "globalSeriesType": "column",
           "isAggregationOn": true,
           "legend": {
            "traceorder": "normal"
           },
           "missingValuesAsZero": false,
           "numberFormat": "0,0.[00000]",
           "percentFormat": "0[.]00%",
           "series": {
            "error_y": {
             "type": "data",
             "visible": true
            },
            "percentValues": false,
            "stacking": ""
           },
           "seriesOptions": {
            "column_42349241174": {
             "color": "#077A9D",
             "name": "total_spent",
             "type": "column",
             "yAxis": 0
            }
           },
           "showDataLabels": true,
           "sizemode": "diameter",
           "sortX": true,
           "sortY": true,
           "swappedAxes": true,
           "textFormat": "",
           "useAggregationsUi": true,
           "valuesOptions": {},
           "version": 2,
           "xAxis": {
            "labels": {
             "enabled": true
            },
            "type": "-"
           },
           "yAxis": [
            {
             "type": "-"
            },
            {
             "opposite": true,
             "type": "-"
            }
           ]
          }
         }
        ]
       },
       "datasetPreviewNameToCmdIdMap": {},
       "diffDeletes": [],
       "diffInserts": [],
       "displayType": "redashChart",
       "error": null,
       "errorDetails": null,
       "errorSummary": null,
       "errorTraceType": null,
       "finishTime": 0,
       "globalVars": {},
       "guid": "",
       "height": "auto",
       "hideCommandCode": false,
       "hideCommandResult": false,
       "iPythonMetadata": null,
       "inputWidgets": {},
       "isLockedInExamMode": false,
       "latestUser": "a user",
       "latestUserId": null,
       "listResultMetadata": null,
       "metadata": {},
       "nuid": "62f74a66-ccfb-4e7d-9972-04d09e6a4145",
       "origId": 0,
       "parentHierarchy": [],
       "pivotAggregation": null,
       "pivotColumns": null,
       "position": 20.09375,
       "resultDbfsErrorMessage": null,
       "resultDbfsStatus": "INLINED_IN_TREE",
       "results": null,
       "showCommandTitle": false,
       "startTime": 0,
       "state": "input",
       "streamStates": {},
       "subcommandOptions": {
        "queryPlan": {
         "groups": [
          {
           "column": "customer_id",
           "type": "column"
          }
         ],
         "selects": [
          {
           "column": "customer_id",
           "type": "column"
          },
          {
           "alias": "column_42349241174",
           "args": [
            {
             "column": "total_spent",
             "type": "column"
            }
           ],
           "function": "SUM",
           "type": "function"
          }
         ]
        }
       },
       "submitTime": 0,
       "subtype": "tableResultSubCmd.visualization",
       "tableResultIndex": 0,
       "tableResultSettingsMap": {},
       "useConsistentColors": false,
       "version": "CommandV1",
       "width": "auto",
       "workflows": [],
       "xColumns": null,
       "yColumns": null
      }
     },
     "output_type": "display_data"
    }
   ],
   "source": [
    "# Analysing Top 10 Customers based on Total Spent\n",
    "\n",
    "top_cutomers = final_df.groupBy(\"customer_id\")\\\n",
    "    .agg(sum('payment_value').alias('total_spent')) \\\n",
    "    .orderBy(desc('total_spent')) \\\n",
    "    .limit(10) \n",
    "display(top_cutomers)"
   ]
  },
  {
   "cell_type": "code",
   "execution_count": 0,
   "metadata": {
    "application/vnd.databricks.v1+cell": {
     "cellMetadata": {
      "byteLimit": 2048000,
      "rowLimit": 10000
     },
     "inputWidgets": {},
     "nuid": "c15ec187-0f81-4156-bf1b-5b887b88171d",
     "showTitle": false,
     "tableResultSettingsMap": {},
     "title": ""
    }
   },
   "outputs": [
    {
     "output_type": "display_data",
     "data": {
      "text/html": [
       "<style scoped>\n",
       "  .table-result-container {\n",
       "    max-height: 300px;\n",
       "    overflow: auto;\n",
       "  }\n",
       "  table, th, td {\n",
       "    border: 1px solid black;\n",
       "    border-collapse: collapse;\n",
       "  }\n",
       "  th, td {\n",
       "    padding: 5px;\n",
       "  }\n",
       "  th {\n",
       "    text-align: left;\n",
       "  }\n",
       "</style><div class='table-result-container'><table class='table-result'><thead style='background-color: white'><tr><th>seller</th><th>total_revenue</th></tr></thead><tbody><tr><td>4869f7a5dfa277a7dca6462dcf3b52b2</td><td>235266.04000000047</td></tr><tr><td>53243585a1d6dc2643021fd1853d8905</td><td>222269.31000000008</td></tr><tr><td>4a3ca9315b744ce9f8e9374361493884</td><td>203791.87000000128</td></tr><tr><td>fa1c13f2614d7b5c4749cbc52fecda94</td><td>203789.32000000044</td></tr><tr><td>7e93a43ef30c4f03f38b393420bc753a</td><td>182594.21</td></tr><tr><td>da8622b14eb17ae2831f4ac5b9dab84a</td><td>155550.8800000011</td></tr><tr><td>7c67e1448b00f6e969d365cea6b010ab</td><td>150306.55000000022</td></tr><tr><td>7a67c85e85bb2ce8582c35f2203ad736</td><td>148941.0000000005</td></tr><tr><td>46dc3b2cc0980fb8ec44634e21d2718e</td><td>130422.15000000034</td></tr><tr><td>6560211a19b47992c3666cc44a7e94c0</td><td>125397.81</td></tr></tbody></table></div>"
      ]
     },
     "metadata": {
      "application/vnd.databricks.v1+output": {
       "addedWidgets": {},
       "aggData": [],
       "aggError": "",
       "aggOverflow": false,
       "aggSchema": [],
       "aggSeriesLimitReached": false,
       "aggType": "",
       "arguments": {},
       "columnCustomDisplayInfos": {},
       "data": [
        [
         "4869f7a5dfa277a7dca6462dcf3b52b2",
         235266.04000000047
        ],
        [
         "53243585a1d6dc2643021fd1853d8905",
         222269.31000000008
        ],
        [
         "4a3ca9315b744ce9f8e9374361493884",
         203791.87000000128
        ],
        [
         "fa1c13f2614d7b5c4749cbc52fecda94",
         203789.32000000044
        ],
        [
         "7e93a43ef30c4f03f38b393420bc753a",
         182594.21
        ],
        [
         "da8622b14eb17ae2831f4ac5b9dab84a",
         155550.8800000011
        ],
        [
         "7c67e1448b00f6e969d365cea6b010ab",
         150306.55000000022
        ],
        [
         "7a67c85e85bb2ce8582c35f2203ad736",
         148941.0000000005
        ],
        [
         "46dc3b2cc0980fb8ec44634e21d2718e",
         130422.15000000034
        ],
        [
         "6560211a19b47992c3666cc44a7e94c0",
         125397.81
        ]
       ],
       "datasetInfos": [],
       "dbfsResultPath": null,
       "isJsonSchema": true,
       "metadata": {},
       "overflow": false,
       "plotOptions": {
        "customPlotOptions": {},
        "displayType": "table",
        "pivotAggregation": null,
        "pivotColumns": null,
        "xColumns": null,
        "yColumns": null
       },
       "removedWidgets": [],
       "schema": [
        {
         "metadata": "{}",
         "name": "seller",
         "type": "\"string\""
        },
        {
         "metadata": "{}",
         "name": "total_revenue",
         "type": "\"double\""
        }
       ],
       "type": "table"
      }
     },
     "output_type": "display_data"
    },
    {
     "output_type": "display_data",
     "data": {
      "text/plain": [
       "Databricks visualization. Run in Databricks to view."
      ]
     },
     "metadata": {
      "application/vnd.databricks.v1.subcommand+json": {
       "baseErrorDetails": null,
       "bindings": {},
       "collapsed": false,
       "command": "%python\n__backend_agg_display_orig = display\n__backend_agg_dfs = []\ndef __backend_agg_display_new(df):\n    __backend_agg_df_modules = [\"pandas.core.frame\", \"databricks.koalas.frame\", \"pyspark.sql.dataframe\", \"pyspark.pandas.frame\", \"pyspark.sql.connect.dataframe\"]\n    if (type(df).__module__ in __backend_agg_df_modules and type(df).__name__ == 'DataFrame') or isinstance(df, list):\n        __backend_agg_dfs.append(df)\n\ndisplay = __backend_agg_display_new\n\ndef __backend_agg_user_code_fn():\n    import base64\n    exec(base64.standard_b64decode(\"IyBUb3AgU2VsbGVycyBCYXNlZCBvbiBSZXZlbnVlIEdlbmVyYXRlZAoKdG9wX3NlbGxlcnMgPSBmaW5hbF9kZi5ncm91cEJ5KCdzZWxsZXInKSBcCiAgICAuYWdnKHN1bSgncHJpY2UnKS5hbGlhcygndG90YWxfcmV2ZW51ZScpKSBcCiAgICAub3JkZXJCeShkZXNjKCd0b3RhbF9yZXZlbnVlJykpIFwKICAgIC5saW1pdCgxMCkKZGlzcGxheSh0b3Bfc2VsbGVycyk=\").decode())\n\ntry:\n    # run user code\n    __backend_agg_user_code_fn()\n\n    #reset display function\n    display = __backend_agg_display_orig\n\n    if len(__backend_agg_dfs) > 0:\n        # create a temp view\n        if type(__backend_agg_dfs[0]).__module__ == \"databricks.koalas.frame\":\n            # koalas dataframe\n            __backend_agg_dfs[0].to_spark().createOrReplaceTempView(\"DatabricksViewfb36024\")\n        elif type(__backend_agg_dfs[0]).__module__ == \"pandas.core.frame\" or isinstance(__backend_agg_dfs[0], list):\n            # pandas dataframe\n            spark.createDataFrame(__backend_agg_dfs[0]).createOrReplaceTempView(\"DatabricksViewfb36024\")\n        else:\n            __backend_agg_dfs[0].createOrReplaceTempView(\"DatabricksViewfb36024\")\n        #run backend agg\n        display(spark.sql(\"\"\"WITH q AS (select * from DatabricksViewfb36024) SELECT `seller`,SUM(`total_revenue`) `column_42349241184` FROM q GROUP BY `seller`\"\"\"))\n    else:\n        displayHTML(\"dataframe no longer exists. If you're using dataframe.display(), use display(dataframe) instead.\")\n\n\nfinally:\n    spark.sql(\"drop view if exists DatabricksViewfb36024\")\n    display = __backend_agg_display_orig\n    del __backend_agg_display_new\n    del __backend_agg_display_orig\n    del __backend_agg_dfs\n    del __backend_agg_user_code_fn\n\n",
       "commandTitle": "Visualization 1",
       "commandType": "auto",
       "commandVersion": 0,
       "commentThread": [],
       "commentsVisible": false,
       "contentSha256Hex": null,
       "customPlotOptions": {
        "redashChart": [
         {
          "key": "type",
          "value": "CHART"
         },
         {
          "key": "options",
          "value": {
           "alignYAxesAtZero": true,
           "coefficient": 1,
           "columnConfigurationMap": {
            "x": {
             "column": "seller",
             "id": "column_42349241183"
            },
            "y": [
             {
              "column": "total_revenue",
              "id": "column_42349241184",
              "transform": "SUM"
             }
            ]
           },
           "dateTimeFormat": "DD/MM/YYYY HH:mm",
           "direction": {
            "type": "counterclockwise"
           },
           "error_y": {
            "type": "data",
            "visible": true
           },
           "globalSeriesType": "column",
           "isAggregationOn": true,
           "legend": {
            "traceorder": "normal"
           },
           "missingValuesAsZero": true,
           "numberFormat": "0,0.[00000]",
           "percentFormat": "0[.]00%",
           "series": {
            "error_y": {
             "type": "data",
             "visible": true
            },
            "stacking": null
           },
           "seriesOptions": {
            "column_42349241184": {
             "color": "#FFAB00",
             "name": "total_revenue",
             "yAxis": 0
            }
           },
           "showDataLabels": true,
           "sizemode": "diameter",
           "sortX": true,
           "sortY": true,
           "swappedAxes": true,
           "textFormat": "",
           "useAggregationsUi": true,
           "valuesOptions": {},
           "version": 2,
           "xAxis": {
            "labels": {
             "enabled": true
            },
            "type": "-"
           },
           "yAxis": [
            {
             "type": "-"
            },
            {
             "opposite": true,
             "type": "-"
            }
           ]
          }
         }
        ]
       },
       "datasetPreviewNameToCmdIdMap": {},
       "diffDeletes": [],
       "diffInserts": [],
       "displayType": "redashChart",
       "error": null,
       "errorDetails": null,
       "errorSummary": null,
       "errorTraceType": null,
       "finishTime": 0,
       "globalVars": {},
       "guid": "",
       "height": "auto",
       "hideCommandCode": false,
       "hideCommandResult": false,
       "iPythonMetadata": null,
       "inputWidgets": {},
       "isLockedInExamMode": false,
       "latestUser": "a user",
       "latestUserId": null,
       "listResultMetadata": null,
       "metadata": {},
       "nuid": "758ab943-6cf1-4a98-8602-7397a6b70d7b",
       "origId": 0,
       "parentHierarchy": [],
       "pivotAggregation": null,
       "pivotColumns": null,
       "position": 20.1875,
       "resultDbfsErrorMessage": null,
       "resultDbfsStatus": "INLINED_IN_TREE",
       "results": null,
       "showCommandTitle": false,
       "startTime": 0,
       "state": "input",
       "streamStates": {},
       "subcommandOptions": {
        "queryPlan": {
         "groups": [
          {
           "column": "seller",
           "type": "column"
          }
         ],
         "selects": [
          {
           "column": "seller",
           "type": "column"
          },
          {
           "alias": "column_42349241184",
           "args": [
            {
             "column": "total_revenue",
             "type": "column"
            }
           ],
           "function": "SUM",
           "type": "function"
          }
         ]
        }
       },
       "submitTime": 0,
       "subtype": "tableResultSubCmd.visualization",
       "tableResultIndex": 0,
       "tableResultSettingsMap": {},
       "useConsistentColors": false,
       "version": "CommandV1",
       "width": "auto",
       "workflows": [],
       "xColumns": null,
       "yColumns": null
      }
     },
     "output_type": "display_data"
    }
   ],
   "source": [
    "# Top Sellers Based on Revenue Generated\n",
    "\n",
    "top_sellers = final_df.groupBy('seller') \\\n",
    "    .agg(sum('price').alias('total_revenue')) \\\n",
    "    .orderBy(desc('total_revenue')) \\\n",
    "    .limit(10)\n",
    "display(top_sellers)"
   ]
  },
  {
   "cell_type": "code",
   "execution_count": 0,
   "metadata": {
    "application/vnd.databricks.v1+cell": {
     "cellMetadata": {
      "byteLimit": 2048000,
      "rowLimit": 10000
     },
     "inputWidgets": {},
     "nuid": "66bd663f-69d0-4c44-8151-fe90b40a0730",
     "showTitle": false,
     "tableResultSettingsMap": {},
     "title": ""
    }
   },
   "outputs": [
    {
     "output_type": "display_data",
     "data": {
      "text/html": [
       "<style scoped>\n",
       "  .table-result-container {\n",
       "    max-height: 300px;\n",
       "    overflow: auto;\n",
       "  }\n",
       "  table, th, td {\n",
       "    border: 1px solid black;\n",
       "    border-collapse: collapse;\n",
       "  }\n",
       "  th, td {\n",
       "    padding: 5px;\n",
       "  }\n",
       "  th {\n",
       "    text-align: left;\n",
       "  }\n",
       "</style><div class='table-result-container'><table class='table-result'><thead style='background-color: white'><tr><th>seller</th><th>total_score</th></tr></thead><tbody><tr><td>6560211a19b47992c3666cc44a7e94c0</td><td>8067</td></tr><tr><td>4a3ca9315b744ce9f8e9374361493884</td><td>7745</td></tr><tr><td>cc419e0650a3c5ba77189a1882b7556a</td><td>7267</td></tr><tr><td>1f50f920176fa81dab994f9023523100</td><td>6273</td></tr><tr><td>da8622b14eb17ae2831f4ac5b9dab84a</td><td>6203</td></tr><tr><td>955fee9216a65b617aa5c0531780ce60</td><td>5468</td></tr><tr><td>7a67c85e85bb2ce8582c35f2203ad736</td><td>5178</td></tr><tr><td>3d871de0142ce09b7081e2b9d1733cb1</td><td>4822</td></tr><tr><td>4869f7a5dfa277a7dca6462dcf3b52b2</td><td>4820</td></tr><tr><td>ea8482cd71df3c1969d7b9473ff13abc</td><td>4785</td></tr></tbody></table></div>"
      ]
     },
     "metadata": {
      "application/vnd.databricks.v1+output": {
       "addedWidgets": {},
       "aggData": [],
       "aggError": "",
       "aggOverflow": false,
       "aggSchema": [],
       "aggSeriesLimitReached": false,
       "aggType": "",
       "arguments": {},
       "columnCustomDisplayInfos": {},
       "data": [
        [
         "6560211a19b47992c3666cc44a7e94c0",
         8067
        ],
        [
         "4a3ca9315b744ce9f8e9374361493884",
         7745
        ],
        [
         "cc419e0650a3c5ba77189a1882b7556a",
         7267
        ],
        [
         "1f50f920176fa81dab994f9023523100",
         6273
        ],
        [
         "da8622b14eb17ae2831f4ac5b9dab84a",
         6203
        ],
        [
         "955fee9216a65b617aa5c0531780ce60",
         5468
        ],
        [
         "7a67c85e85bb2ce8582c35f2203ad736",
         5178
        ],
        [
         "3d871de0142ce09b7081e2b9d1733cb1",
         4822
        ],
        [
         "4869f7a5dfa277a7dca6462dcf3b52b2",
         4820
        ],
        [
         "ea8482cd71df3c1969d7b9473ff13abc",
         4785
        ]
       ],
       "datasetInfos": [],
       "dbfsResultPath": null,
       "isJsonSchema": true,
       "metadata": {},
       "overflow": false,
       "plotOptions": {
        "customPlotOptions": {},
        "displayType": "table",
        "pivotAggregation": null,
        "pivotColumns": null,
        "xColumns": null,
        "yColumns": null
       },
       "removedWidgets": [],
       "schema": [
        {
         "metadata": "{}",
         "name": "seller",
         "type": "\"string\""
        },
        {
         "metadata": "{}",
         "name": "total_score",
         "type": "\"long\""
        }
       ],
       "type": "table"
      }
     },
     "output_type": "display_data"
    },
    {
     "output_type": "display_data",
     "data": {
      "text/plain": [
       "Databricks visualization. Run in Databricks to view."
      ]
     },
     "metadata": {
      "application/vnd.databricks.v1.subcommand+json": {
       "baseErrorDetails": null,
       "bindings": {},
       "collapsed": false,
       "command": "%python\n__backend_agg_display_orig = display\n__backend_agg_dfs = []\ndef __backend_agg_display_new(df):\n    __backend_agg_df_modules = [\"pandas.core.frame\", \"databricks.koalas.frame\", \"pyspark.sql.dataframe\", \"pyspark.pandas.frame\", \"pyspark.sql.connect.dataframe\"]\n    if (type(df).__module__ in __backend_agg_df_modules and type(df).__name__ == 'DataFrame') or isinstance(df, list):\n        __backend_agg_dfs.append(df)\n\ndisplay = __backend_agg_display_new\n\ndef __backend_agg_user_code_fn():\n    import base64\n    exec(base64.standard_b64decode(\"IyBUb3AgU2VsbGVycyBCYXNlZCBvbiBSZXZpZXdzCgp0b3Bfc2VsbGVyc19ieV9yZXZpZXcgPSBmaW5hbF9kZi5ncm91cEJ5KCdzZWxsZXInKSBcCiAgICAuYWdnKHN1bSgncmV2aWV3X3Njb3JlJykuYWxpYXMoJ3RvdGFsX3Njb3JlJykpIFwKICAgIC5vcmRlckJ5KGRlc2MoJ3RvdGFsX3Njb3JlJykpIFwKICAgIC5saW1pdCgxMCkKZGlzcGxheSh0b3Bfc2VsbGVyc19ieV9yZXZpZXcp\").decode())\n\ntry:\n    # run user code\n    __backend_agg_user_code_fn()\n\n    #reset display function\n    display = __backend_agg_display_orig\n\n    if len(__backend_agg_dfs) > 0:\n        # create a temp view\n        if type(__backend_agg_dfs[0]).__module__ == \"databricks.koalas.frame\":\n            # koalas dataframe\n            __backend_agg_dfs[0].to_spark().createOrReplaceTempView(\"DatabricksViewc4ec3e0\")\n        elif type(__backend_agg_dfs[0]).__module__ == \"pandas.core.frame\" or isinstance(__backend_agg_dfs[0], list):\n            # pandas dataframe\n            spark.createDataFrame(__backend_agg_dfs[0]).createOrReplaceTempView(\"DatabricksViewc4ec3e0\")\n        else:\n            __backend_agg_dfs[0].createOrReplaceTempView(\"DatabricksViewc4ec3e0\")\n        #run backend agg\n        display(spark.sql(\"\"\"WITH q AS (select * from DatabricksViewc4ec3e0) SELECT `seller`,SUM(`total_score`) `column_42349241191` FROM q GROUP BY `seller`\"\"\"))\n    else:\n        displayHTML(\"dataframe no longer exists. If you're using dataframe.display(), use display(dataframe) instead.\")\n\n\nfinally:\n    spark.sql(\"drop view if exists DatabricksViewc4ec3e0\")\n    display = __backend_agg_display_orig\n    del __backend_agg_display_new\n    del __backend_agg_display_orig\n    del __backend_agg_dfs\n    del __backend_agg_user_code_fn\n\n",
       "commandTitle": "Visualization 1",
       "commandType": "auto",
       "commandVersion": 0,
       "commentThread": [],
       "commentsVisible": false,
       "contentSha256Hex": null,
       "customPlotOptions": {
        "redashChart": [
         {
          "key": "type",
          "value": "CHART"
         },
         {
          "key": "options",
          "value": {
           "alignYAxesAtZero": true,
           "coefficient": 1,
           "columnConfigurationMap": {
            "x": {
             "column": "seller",
             "id": "column_42349241190"
            },
            "y": [
             {
              "column": "total_score",
              "id": "column_42349241191",
              "transform": "SUM"
             }
            ]
           },
           "dateTimeFormat": "DD/MM/YYYY HH:mm",
           "direction": {
            "type": "counterclockwise"
           },
           "error_y": {
            "type": "data",
            "visible": true
           },
           "globalSeriesType": "column",
           "isAggregationOn": true,
           "legend": {
            "traceorder": "normal"
           },
           "missingValuesAsZero": true,
           "numberFormat": "0,0.[00000]",
           "percentFormat": "0[.]00%",
           "series": {
            "error_y": {
             "type": "data",
             "visible": true
            },
            "stacking": null
           },
           "seriesOptions": {
            "column_42349241191": {
             "color": "#AB4057",
             "name": "total_score",
             "yAxis": 0
            }
           },
           "showDataLabels": true,
           "sizemode": "diameter",
           "sortX": true,
           "sortY": true,
           "swappedAxes": true,
           "textFormat": "",
           "useAggregationsUi": true,
           "valuesOptions": {},
           "version": 2,
           "xAxis": {
            "labels": {
             "enabled": true
            },
            "type": "-"
           },
           "yAxis": [
            {
             "type": "-"
            },
            {
             "opposite": true,
             "type": "-"
            }
           ]
          }
         }
        ]
       },
       "datasetPreviewNameToCmdIdMap": {},
       "diffDeletes": [],
       "diffInserts": [],
       "displayType": "redashChart",
       "error": null,
       "errorDetails": null,
       "errorSummary": null,
       "errorTraceType": null,
       "finishTime": 0,
       "globalVars": {},
       "guid": "",
       "height": "auto",
       "hideCommandCode": false,
       "hideCommandResult": false,
       "iPythonMetadata": null,
       "inputWidgets": {},
       "isLockedInExamMode": false,
       "latestUser": "a user",
       "latestUserId": null,
       "listResultMetadata": null,
       "metadata": {},
       "nuid": "bba68ad1-10ce-41f9-b4b0-c4b734f32e08",
       "origId": 0,
       "parentHierarchy": [],
       "pivotAggregation": null,
       "pivotColumns": null,
       "position": 20.234375,
       "resultDbfsErrorMessage": null,
       "resultDbfsStatus": "INLINED_IN_TREE",
       "results": null,
       "showCommandTitle": false,
       "startTime": 0,
       "state": "input",
       "streamStates": {},
       "subcommandOptions": {
        "queryPlan": {
         "groups": [
          {
           "column": "seller",
           "type": "column"
          }
         ],
         "selects": [
          {
           "column": "seller",
           "type": "column"
          },
          {
           "alias": "column_42349241191",
           "args": [
            {
             "column": "total_score",
             "type": "column"
            }
           ],
           "function": "SUM",
           "type": "function"
          }
         ]
        }
       },
       "submitTime": 0,
       "subtype": "tableResultSubCmd.visualization",
       "tableResultIndex": 0,
       "tableResultSettingsMap": {},
       "useConsistentColors": false,
       "version": "CommandV1",
       "width": "auto",
       "workflows": [],
       "xColumns": null,
       "yColumns": null
      }
     },
     "output_type": "display_data"
    }
   ],
   "source": [
    "# Top Sellers Based on Reviews\n",
    "\n",
    "top_sellers_by_review = final_df.groupBy('seller') \\\n",
    "    .agg(sum('review_score').alias('total_score')) \\\n",
    "    .orderBy(desc('total_score')) \\\n",
    "    .limit(10)\n",
    "display(top_sellers_by_review)"
   ]
  },
  {
   "cell_type": "markdown",
   "metadata": {
    "application/vnd.databricks.v1+cell": {
     "cellMetadata": {
      "byteLimit": 2048000,
      "rowLimit": 10000
     },
     "inputWidgets": {},
     "nuid": "b256224f-54f6-4995-9b30-820150cb573f",
     "showTitle": false,
     "tableResultSettingsMap": {},
     "title": ""
    }
   },
   "source": [
    "# 11. Data Serving to Gold Layer"
   ]
  },
  {
   "cell_type": "code",
   "execution_count": 0,
   "metadata": {
    "application/vnd.databricks.v1+cell": {
     "cellMetadata": {
      "byteLimit": 2048000,
      "rowLimit": 10000
     },
     "inputWidgets": {},
     "nuid": "d234433d-d8bf-4c94-a134-d540067d2bdf",
     "showTitle": false,
     "tableResultSettingsMap": {},
     "title": ""
    }
   },
   "outputs": [],
   "source": [
    "gold_path = f\"abfss://{container_name}@{account_name}.dfs.core.windows.net/gold/\""
   ]
  },
  {
   "cell_type": "code",
   "execution_count": 0,
   "metadata": {
    "application/vnd.databricks.v1+cell": {
     "cellMetadata": {
      "byteLimit": 2048000,
      "rowLimit": 10000
     },
     "inputWidgets": {},
     "nuid": "afec0553-670d-499b-8229-8529c779cc8c",
     "showTitle": false,
     "tableResultSettingsMap": {},
     "title": ""
    }
   },
   "outputs": [],
   "source": [
    "# Storing Transformed dataset into Gold layer\n",
    "\n",
    "final_df.write \\\n",
    "    .mode(\"overwrite\") \\\n",
    "    .format('delta') \\\n",
    "    .partitionBy(\"year\") \\\n",
    "    .save(gold_path)"
   ]
  }
 ],
 "metadata": {
  "application/vnd.databricks.v1+notebook": {
   "computePreferences": null,
   "dashboards": [],
   "environmentMetadata": {
    "base_environment": "",
    "environment_version": "2"
   },
   "inputWidgetPreferences": null,
   "language": "python",
   "notebookMetadata": {
    "pythonIndentUnit": 4
   },
   "notebookName": "Transformation",
   "widgets": {}
  },
  "language_info": {
   "name": "python"
  }
 },
 "nbformat": 4,
 "nbformat_minor": 0
}